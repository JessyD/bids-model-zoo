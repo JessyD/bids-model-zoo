{
 "cells": [
  {
   "cell_type": "markdown",
   "id": "e468135b",
   "metadata": {},
   "source": [
    "# NARPS"
   ]
  },
  {
   "cell_type": "code",
   "execution_count": 21,
   "id": "41506b29",
   "metadata": {},
   "outputs": [
    {
     "name": "stdout",
     "output_type": "stream",
     "text": [
      "The autoreload extension is already loaded. To reload it, use:\n",
      "  %reload_ext autoreload\n"
     ]
    }
   ],
   "source": [
    "%load_ext autoreload\n",
    "%autoreload 2\n",
    "\n",
    "import json\n",
    "from pathlib import Path\n",
    "from itertools import chain\n",
    "\n",
    "import numpy as np\n",
    "import pandas as pd\n",
    "\n",
    "from nilearn.plotting import plot_design_matrix\n",
    "\n",
    "import bids\n",
    "from bids.modeling import BIDSStatsModelsGraph\n",
    "from bids.layout import BIDSLayout\n",
    "\n",
    "def api(obj):\n",
    "    return {attr: getattr(obj, attr) for attr in dir(obj) if not attr[0] == '_'}"
   ]
  },
  {
   "cell_type": "code",
   "execution_count": 22,
   "id": "ee98899a",
   "metadata": {},
   "outputs": [],
   "source": [
    "layout = BIDSLayout('./ds001734/', database_path=\"./ds001734.db\")"
   ]
  },
  {
   "cell_type": "code",
   "execution_count": 23,
   "id": "776baba9",
   "metadata": {},
   "outputs": [
    {
     "data": {
      "text/plain": [
       "{'Name': 'NARPS',\n",
       " 'Description': 'NARPS Analysis model',\n",
       " 'BIDSModelVersion': '1.0.0',\n",
       " 'Input': {'task': 'MGT'},\n",
       " 'Nodes': [{'Level': 'Run',\n",
       "   'Name': 'run',\n",
       "   'GroupBy': ['run', 'subject'],\n",
       "   'Transformations': {'Transformer': 'pybids-transforms-v1',\n",
       "    'Instructions': [{'Name': 'Threshold',\n",
       "      'Input': ['gain'],\n",
       "      'Binarize': True,\n",
       "      'Output': ['trials']},\n",
       "     {'Name': 'Scale',\n",
       "      'Input': ['gain', 'loss', 'RT'],\n",
       "      'Demean': True,\n",
       "      'Rescale': False,\n",
       "      'Output': ['gain', 'loss', 'demeaned_RT']},\n",
       "     {'Name': 'Convolve',\n",
       "      'Model': 'spm',\n",
       "      'Input': ['trials', 'gain', 'loss', 'demeaned_RT']}]},\n",
       "   'Model': {'X': ['trials', 'gain', 'loss', 'demeaned_RT', 1], 'Type': 'glm'},\n",
       "   'DummyContrasts': {'Conditions': ['trials', 'gain', 'loss'], 'Test': 't'}},\n",
       "  {'Level': 'Subject',\n",
       "   'Name': 'subject',\n",
       "   'GroupBy': ['subject', 'contrast'],\n",
       "   'Model': {'X': [1], 'Type': 'meta'},\n",
       "   'DummyContrasts': {'Test': 't'}},\n",
       "  {'Level': 'Dataset',\n",
       "   'Name': 'between-groups',\n",
       "   'GroupBy': ['contrast'],\n",
       "   'Model': {'X': [1, 'group'], 'Formula': '0 + C(group)'},\n",
       "   'Contrasts': [{'Name': 'range_vs_indiference',\n",
       "     'ConditionList': ['C(group)[T.equalRange]',\n",
       "      'C(group)[T.equalIndifference]'],\n",
       "     'Weights': [1, -1],\n",
       "     'Test': 't'}]},\n",
       "  {'Level': 'Dataset',\n",
       "   'Name': 'positive',\n",
       "   'GroupBy': ['contrast', 'group'],\n",
       "   'Model': {'X': [1]},\n",
       "   'DummyContrasts': {'Test': 't'}},\n",
       "  {'Level': 'Dataset',\n",
       "   'Name': 'negative-loss',\n",
       "   'GroupBy': ['contrast', 'group'],\n",
       "   'Model': {'X': [1]},\n",
       "   'Contrasts': [{'Name': 'negative',\n",
       "     'ConditionList': [1],\n",
       "     'Weights': [-1],\n",
       "     'Test': 't'}]}],\n",
       " 'Edges': [{'Source': 'run', 'Destination': 'subject'},\n",
       "  {'Source': 'subject', 'Destination': 'positive'},\n",
       "  {'Source': 'subject',\n",
       "   'Destination': 'negative-loss',\n",
       "   'Filter': {'contrast': ['loss']}},\n",
       "  {'Source': 'subject',\n",
       "   'Destination': 'between-groups',\n",
       "   'Filter': {'contrast': ['loss']}}]}"
      ]
     },
     "execution_count": 23,
     "metadata": {},
     "output_type": "execute_result"
    }
   ],
   "source": [
    "json_file = './model-narps_smdl.json'\n",
    "spec = json.loads(Path(json_file).read_text())\n",
    "spec"
   ]
  },
  {
   "cell_type": "code",
   "execution_count": 24,
   "id": "abf1b7e1-be06-420a-8cbe-67b128e5bdde",
   "metadata": {},
   "outputs": [],
   "source": [
    "spec['Input'] = {\n",
    "    'task': 'MGT',\n",
    "    'subject': ['001', '002', '003']\n",
    "}"
   ]
  },
  {
   "cell_type": "code",
   "execution_count": 25,
   "id": "306ae1ae",
   "metadata": {},
   "outputs": [],
   "source": [
    "graph = BIDSStatsModelsGraph(layout, spec)"
   ]
  },
  {
   "cell_type": "code",
   "execution_count": 26,
   "id": "ea198136",
   "metadata": {},
   "outputs": [
    {
     "data": {
      "image/svg+xml": [
       "<?xml version=\"1.0\" encoding=\"UTF-8\" standalone=\"no\"?>\n",
       "<!DOCTYPE svg PUBLIC \"-//W3C//DTD SVG 1.1//EN\"\n",
       " \"http://www.w3.org/Graphics/SVG/1.1/DTD/svg11.dtd\">\n",
       "<!-- Generated by graphviz version 2.43.0 (0)\n",
       " -->\n",
       "<!-- Title: structs Pages: 1 -->\n",
       "<svg width=\"842pt\" height=\"191pt\"\n",
       " viewBox=\"0.00 0.00 841.50 191.00\" xmlns=\"http://www.w3.org/2000/svg\" xmlns:xlink=\"http://www.w3.org/1999/xlink\">\n",
       "<g id=\"graph0\" class=\"graph\" transform=\"scale(1 1) rotate(0) translate(4 187)\">\n",
       "<title>structs</title>\n",
       "<polygon fill=\"white\" stroke=\"transparent\" points=\"-4,4 -4,-187 837.5,-187 837.5,4 -4,4\"/>\n",
       "<!-- run -->\n",
       "<g id=\"node1\" class=\"node\">\n",
       "<title>run</title>\n",
       "<polygon fill=\"none\" stroke=\"black\" points=\"340.5,-146.5 340.5,-182.5 513.5,-182.5 513.5,-146.5 340.5,-146.5\"/>\n",
       "<text text-anchor=\"middle\" x=\"385\" y=\"-160.8\" font-family=\"Times,serif\" font-size=\"14.00\">name: run</text>\n",
       "<polyline fill=\"none\" stroke=\"black\" points=\"429.5,-146.5 429.5,-182.5 \"/>\n",
       "<text text-anchor=\"middle\" x=\"471.5\" y=\"-160.8\" font-family=\"Times,serif\" font-size=\"14.00\">level: run</text>\n",
       "</g>\n",
       "<!-- subject -->\n",
       "<g id=\"node2\" class=\"node\">\n",
       "<title>subject</title>\n",
       "<polygon fill=\"none\" stroke=\"black\" points=\"313.5,-73.5 313.5,-109.5 540.5,-109.5 540.5,-73.5 313.5,-73.5\"/>\n",
       "<text text-anchor=\"middle\" x=\"371.5\" y=\"-87.8\" font-family=\"Times,serif\" font-size=\"14.00\">name: subject</text>\n",
       "<polyline fill=\"none\" stroke=\"black\" points=\"429.5,-73.5 429.5,-109.5 \"/>\n",
       "<text text-anchor=\"middle\" x=\"485\" y=\"-87.8\" font-family=\"Times,serif\" font-size=\"14.00\">level: subject</text>\n",
       "</g>\n",
       "<!-- run&#45;&gt;subject -->\n",
       "<g id=\"edge1\" class=\"edge\">\n",
       "<title>run&#45;&gt;subject</title>\n",
       "<path fill=\"none\" stroke=\"black\" d=\"M427,-146.31C427,-138.29 427,-128.55 427,-119.57\"/>\n",
       "<polygon fill=\"black\" stroke=\"black\" points=\"430.5,-119.53 427,-109.53 423.5,-119.53 430.5,-119.53\"/>\n",
       "</g>\n",
       "<!-- between&#45;groups -->\n",
       "<g id=\"node3\" class=\"node\">\n",
       "<title>between&#45;groups</title>\n",
       "<polygon fill=\"none\" stroke=\"black\" points=\"0,-0.5 0,-36.5 292,-36.5 292,-0.5 0,-0.5\"/>\n",
       "<text text-anchor=\"middle\" x=\"89.5\" y=\"-14.8\" font-family=\"Times,serif\" font-size=\"14.00\">name: between&#45;groups</text>\n",
       "<polyline fill=\"none\" stroke=\"black\" points=\"179,-0.5 179,-36.5 \"/>\n",
       "<text text-anchor=\"middle\" x=\"235.5\" y=\"-14.8\" font-family=\"Times,serif\" font-size=\"14.00\">level: dataset</text>\n",
       "</g>\n",
       "<!-- subject&#45;&gt;between&#45;groups -->\n",
       "<g id=\"edge4\" class=\"edge\">\n",
       "<title>subject&#45;&gt;between&#45;groups</title>\n",
       "<path fill=\"none\" stroke=\"black\" d=\"M359.69,-73.49C318.72,-63.14 266.23,-49.88 223.52,-39.09\"/>\n",
       "<polygon fill=\"black\" stroke=\"black\" points=\"224.28,-35.67 213.73,-36.61 222.57,-42.46 224.28,-35.67\"/>\n",
       "</g>\n",
       "<!-- positive -->\n",
       "<g id=\"node4\" class=\"node\">\n",
       "<title>positive</title>\n",
       "<polygon fill=\"none\" stroke=\"black\" points=\"310,-0.5 310,-36.5 544,-36.5 544,-0.5 310,-0.5\"/>\n",
       "<text text-anchor=\"middle\" x=\"370.5\" y=\"-14.8\" font-family=\"Times,serif\" font-size=\"14.00\">name: positive</text>\n",
       "<polyline fill=\"none\" stroke=\"black\" points=\"431,-0.5 431,-36.5 \"/>\n",
       "<text text-anchor=\"middle\" x=\"487.5\" y=\"-14.8\" font-family=\"Times,serif\" font-size=\"14.00\">level: dataset</text>\n",
       "</g>\n",
       "<!-- subject&#45;&gt;positive -->\n",
       "<g id=\"edge2\" class=\"edge\">\n",
       "<title>subject&#45;&gt;positive</title>\n",
       "<path fill=\"none\" stroke=\"black\" d=\"M427,-73.31C427,-65.29 427,-55.55 427,-46.57\"/>\n",
       "<polygon fill=\"black\" stroke=\"black\" points=\"430.5,-46.53 427,-36.53 423.5,-46.53 430.5,-46.53\"/>\n",
       "</g>\n",
       "<!-- negative&#45;loss -->\n",
       "<g id=\"node5\" class=\"node\">\n",
       "<title>negative&#45;loss</title>\n",
       "<polygon fill=\"none\" stroke=\"black\" points=\"562.5,-0.5 562.5,-36.5 833.5,-36.5 833.5,-0.5 562.5,-0.5\"/>\n",
       "<text text-anchor=\"middle\" x=\"641.5\" y=\"-14.8\" font-family=\"Times,serif\" font-size=\"14.00\">name: negative&#45;loss</text>\n",
       "<polyline fill=\"none\" stroke=\"black\" points=\"720.5,-0.5 720.5,-36.5 \"/>\n",
       "<text text-anchor=\"middle\" x=\"777\" y=\"-14.8\" font-family=\"Times,serif\" font-size=\"14.00\">level: dataset</text>\n",
       "</g>\n",
       "<!-- subject&#45;&gt;negative&#45;loss -->\n",
       "<g id=\"edge3\" class=\"edge\">\n",
       "<title>subject&#45;&gt;negative&#45;loss</title>\n",
       "<path fill=\"none\" stroke=\"black\" d=\"M491.91,-73.49C531.34,-63.16 581.84,-49.93 622.98,-39.16\"/>\n",
       "<polygon fill=\"black\" stroke=\"black\" points=\"623.89,-42.53 632.68,-36.61 622.12,-35.76 623.89,-42.53\"/>\n",
       "</g>\n",
       "</g>\n",
       "</svg>\n"
      ],
      "text/plain": [
       "<graphviz.graphs.Digraph at 0x7ff8911a5af0>"
      ]
     },
     "execution_count": 26,
     "metadata": {},
     "output_type": "execute_result"
    }
   ],
   "source": [
    "graph.write_graph(format='svg')"
   ]
  },
  {
   "cell_type": "code",
   "execution_count": 27,
   "id": "fc72114c",
   "metadata": {},
   "outputs": [],
   "source": [
    "root_node = graph.root_node"
   ]
  },
  {
   "cell_type": "code",
   "execution_count": 28,
   "id": "aecd1f8a",
   "metadata": {},
   "outputs": [],
   "source": [
    "try:\n",
    "    graph.load_collections()\n",
    "except ValueError:\n",
    "    graph.load_collections(scan_length=453)  # TR = 1, nvols = 453"
   ]
  },
  {
   "cell_type": "code",
   "execution_count": 29,
   "id": "6d11ebe6",
   "metadata": {},
   "outputs": [],
   "source": [
    "specs = root_node.run(group_by=root_node.group_by, force_dense=False)"
   ]
  },
  {
   "cell_type": "code",
   "execution_count": 30,
   "id": "ef7826e4",
   "metadata": {},
   "outputs": [
    {
     "data": {
      "text/plain": [
       "{'X':        trials      gain      loss   demeaned_RT  intercept\n",
       " 0    0.000002 -0.000020 -0.000011  7.939675e-07        1.0\n",
       " 1   -0.000005  0.000056  0.000032 -2.276861e-06        1.0\n",
       " 2    0.000014 -0.000159 -0.000091  6.446336e-06        1.0\n",
       " 3   -0.000037  0.000408  0.000235 -1.654103e-05        1.0\n",
       " 4    0.000073 -0.000812 -0.000468  3.296583e-05        1.0\n",
       " ..        ...       ...       ...           ...        ...\n",
       " 448  0.729063  8.015666  5.652929 -2.061146e-01        1.0\n",
       " 449  0.576339  7.628444  4.549625 -1.434993e-01        1.0\n",
       " 450  0.397427  6.338474  3.218710 -8.201623e-02        1.0\n",
       " 451  0.237071  4.844265  2.008481 -3.181046e-02        1.0\n",
       " 452  0.097324  3.315304  0.939883  8.506043e-03        1.0\n",
       " \n",
       " [453 rows x 5 columns],\n",
       " 'contrasts': [ContrastInfo(name='gain', conditions=['gain'], weights=[1], test='t', entities={'run': 1, 'subject': '001', 'contrast': 'gain'}),\n",
       "  ContrastInfo(name='loss', conditions=['loss'], weights=[1], test='t', entities={'run': 1, 'subject': '001', 'contrast': 'loss'}),\n",
       "  ContrastInfo(name='trials', conditions=['trials'], weights=[1], test='t', entities={'run': 1, 'subject': '001', 'contrast': 'trials'}),\n",
       "  ContrastInfo(name='intercept', conditions=['intercept'], weights=[1], test='t', entities={'run': 1, 'subject': '001', 'contrast': 'intercept'}),\n",
       "  ContrastInfo(name='demeaned_RT', conditions=['demeaned_RT'], weights=[1], test='t', entities={'run': 1, 'subject': '001', 'contrast': 'demeaned_RT'})],\n",
       " 'data':        trials      gain      loss   demeaned_RT  intercept\n",
       " 0    0.000002 -0.000020 -0.000011  7.939675e-07          1\n",
       " 1   -0.000005  0.000056  0.000032 -2.276861e-06          1\n",
       " 2    0.000014 -0.000159 -0.000091  6.446336e-06          1\n",
       " 3   -0.000037  0.000408  0.000235 -1.654103e-05          1\n",
       " 4    0.000073 -0.000812 -0.000468  3.296583e-05          1\n",
       " ..        ...       ...       ...           ...        ...\n",
       " 448  0.729063  8.015666  5.652929 -2.061146e-01          1\n",
       " 449  0.576339  7.628444  4.549625 -1.434993e-01          1\n",
       " 450  0.397427  6.338474  3.218710 -8.201623e-02          1\n",
       " 451  0.237071  4.844265  2.008481 -3.181046e-02          1\n",
       " 452  0.097324  3.315304  0.939883  8.506043e-03          1\n",
       " \n",
       " [453 rows x 5 columns],\n",
       " 'entities': {'run': 1, 'subject': '001'},\n",
       " 'force_dense': False,\n",
       " 'invalid_contrasts': 'drop',\n",
       " 'metadata':      BandwidthPerPixelPhaseEncode  \\\n",
       " 0                          34.305   \n",
       " 1                          34.305   \n",
       " 2                          34.305   \n",
       " 3                          34.305   \n",
       " 4                          34.305   \n",
       " ..                            ...   \n",
       " 448                        34.305   \n",
       " 449                        34.305   \n",
       " 450                        34.305   \n",
       " 451                        34.305   \n",
       " 452                        34.305   \n",
       " \n",
       "                                             CogAtlasID  EchoTime  \\\n",
       " 0    http://www.cognitiveatlas.org/id/trm_4cacee4a1...      0.03   \n",
       " 1    http://www.cognitiveatlas.org/id/trm_4cacee4a1...      0.03   \n",
       " 2    http://www.cognitiveatlas.org/id/trm_4cacee4a1...      0.03   \n",
       " 3    http://www.cognitiveatlas.org/id/trm_4cacee4a1...      0.03   \n",
       " 4    http://www.cognitiveatlas.org/id/trm_4cacee4a1...      0.03   \n",
       " ..                                                 ...       ...   \n",
       " 448  http://www.cognitiveatlas.org/id/trm_4cacee4a1...      0.03   \n",
       " 449  http://www.cognitiveatlas.org/id/trm_4cacee4a1...      0.03   \n",
       " 450  http://www.cognitiveatlas.org/id/trm_4cacee4a1...      0.03   \n",
       " 451  http://www.cognitiveatlas.org/id/trm_4cacee4a1...      0.03   \n",
       " 452  http://www.cognitiveatlas.org/id/trm_4cacee4a1...      0.03   \n",
       " \n",
       "      EffectiveEchoSpacing  FlipAngle  MagneticFieldStrength Manufacturer  \\\n",
       " 0                0.000275         68                      3      SIEMENS   \n",
       " 1                0.000275         68                      3      SIEMENS   \n",
       " 2                0.000275         68                      3      SIEMENS   \n",
       " 3                0.000275         68                      3      SIEMENS   \n",
       " 4                0.000275         68                      3      SIEMENS   \n",
       " ..                    ...        ...                    ...          ...   \n",
       " 448              0.000275         68                      3      SIEMENS   \n",
       " 449              0.000275         68                      3      SIEMENS   \n",
       " 450              0.000275         68                      3      SIEMENS   \n",
       " 451              0.000275         68                      3      SIEMENS   \n",
       " 452              0.000275         68                      3      SIEMENS   \n",
       " \n",
       "     ManufacturersModelName  MultibandAccelerationFactor  \\\n",
       " 0                   Prisma                            4   \n",
       " 1                   Prisma                            4   \n",
       " 2                   Prisma                            4   \n",
       " 3                   Prisma                            4   \n",
       " 4                   Prisma                            4   \n",
       " ..                     ...                          ...   \n",
       " 448                 Prisma                            4   \n",
       " 449                 Prisma                            4   \n",
       " 450                 Prisma                            4   \n",
       " 451                 Prisma                            4   \n",
       " 452                 Prisma                            4   \n",
       " \n",
       "     PhaseEncodingDirection  ...     TaskDescription TaskName datatype  \\\n",
       " 0                       j-  ...  Mixed gambles task      MGT     func   \n",
       " 1                       j-  ...  Mixed gambles task      MGT     func   \n",
       " 2                       j-  ...  Mixed gambles task      MGT     func   \n",
       " 3                       j-  ...  Mixed gambles task      MGT     func   \n",
       " 4                       j-  ...  Mixed gambles task      MGT     func   \n",
       " ..                     ...  ...                 ...      ...      ...   \n",
       " 448                     j-  ...  Mixed gambles task      MGT     func   \n",
       " 449                     j-  ...  Mixed gambles task      MGT     func   \n",
       " 450                     j-  ...  Mixed gambles task      MGT     func   \n",
       " 451                     j-  ...  Mixed gambles task      MGT     func   \n",
       " 452                     j-  ...  Mixed gambles task      MGT     func   \n",
       " \n",
       "     duration extension  onset run  subject  suffix task  \n",
       " 0        1.0   .nii.gz    0.0   1      001    bold  MGT  \n",
       " 1        1.0   .nii.gz    1.0   1      001    bold  MGT  \n",
       " 2        1.0   .nii.gz    2.0   1      001    bold  MGT  \n",
       " 3        1.0   .nii.gz    3.0   1      001    bold  MGT  \n",
       " 4        1.0   .nii.gz    4.0   1      001    bold  MGT  \n",
       " ..       ...       ...    ...  ..      ...     ...  ...  \n",
       " 448      1.0   .nii.gz  448.0   1      001    bold  MGT  \n",
       " 449      1.0   .nii.gz  449.0   1      001    bold  MGT  \n",
       " 450      1.0   .nii.gz  450.0   1      001    bold  MGT  \n",
       " 451      1.0   .nii.gz  451.0   1      001    bold  MGT  \n",
       " 452      1.0   .nii.gz  452.0   1      001    bold  MGT  \n",
       " \n",
       " [453 rows x 22 columns],\n",
       " 'model_spec': <bids.modeling.model_spec.GLMMSpec at 0x7ff89130e6a0>,\n",
       " 'node': <BIDSStatsModelsNode[run] run>,\n",
       " 'sampling_rate': 'TR'}"
      ]
     },
     "execution_count": 30,
     "metadata": {},
     "output_type": "execute_result"
    }
   ],
   "source": [
    "api(specs[0])"
   ]
  },
  {
   "cell_type": "code",
   "execution_count": 31,
   "id": "04ee0d90",
   "metadata": {},
   "outputs": [
    {
     "data": {
      "text/plain": [
       "<bids.modeling.statsmodels.BIDSStatsModelsNodeOutput at 0x7ff891275550>"
      ]
     },
     "execution_count": 31,
     "metadata": {},
     "output_type": "execute_result"
    }
   ],
   "source": [
    "specs[0]"
   ]
  },
  {
   "cell_type": "code",
   "execution_count": null,
   "id": "8b637d60",
   "metadata": {},
   "outputs": [],
   "source": [
    "plot_design_matrix(specs[0].X)"
   ]
  },
  {
   "cell_type": "code",
   "execution_count": null,
   "id": "33ab10dd",
   "metadata": {},
   "outputs": [],
   "source": [
    "specs[0].entities"
   ]
  },
  {
   "cell_type": "code",
   "execution_count": null,
   "id": "dad2f0d2",
   "metadata": {},
   "outputs": [],
   "source": [
    "specs[0].metadata"
   ]
  },
  {
   "cell_type": "code",
   "execution_count": null,
   "id": "017122aa",
   "metadata": {},
   "outputs": [],
   "source": [
    "bold = layout.get(**specs[0].entities, suffix='bold', extension='.nii.gz')[0]"
   ]
  },
  {
   "cell_type": "code",
   "execution_count": null,
   "id": "bef11702",
   "metadata": {},
   "outputs": [],
   "source": [
    "# import nilearn.glm\n",
    "# l1m = nilearn.glm.first_level.FirstLevelModel()\n",
    "# l1m.fit(bold.get_image(), design_matrices=specs[0].X)"
   ]
  },
  {
   "cell_type": "code",
   "execution_count": null,
   "id": "8c9d9c06",
   "metadata": {},
   "outputs": [],
   "source": [
    "next_node = root_node.children[0].destination"
   ]
  },
  {
   "cell_type": "code",
   "execution_count": null,
   "id": "744dbf20",
   "metadata": {},
   "outputs": [],
   "source": [
    "next_node.group_by"
   ]
  },
  {
   "cell_type": "code",
   "execution_count": null,
   "id": "cbec8a70",
   "metadata": {},
   "outputs": [],
   "source": [
    "root_node.children[0].filter"
   ]
  },
  {
   "cell_type": "code",
   "execution_count": null,
   "id": "0092651e",
   "metadata": {},
   "outputs": [],
   "source": [
    "contrasts = list(chain(*[s.contrasts for s in specs]))\n",
    "sub_specs = next_node.run(contrasts, group_by=next_node.group_by)"
   ]
  },
  {
   "cell_type": "code",
   "execution_count": null,
   "id": "8ce0b8ff",
   "metadata": {},
   "outputs": [],
   "source": [
    "api(sub_specs[3])"
   ]
  },
  {
   "cell_type": "code",
   "execution_count": null,
   "id": "65c06c21",
   "metadata": {},
   "outputs": [],
   "source": [
    "ds1_node = next_node.children[1].destination\n",
    "api(ds1_node)"
   ]
  },
  {
   "cell_type": "code",
   "execution_count": null,
   "id": "6f7cdcd8",
   "metadata": {},
   "outputs": [],
   "source": [
    "next_node.children[1].filter"
   ]
  },
  {
   "cell_type": "code",
   "execution_count": null,
   "id": "f9f660eb",
   "metadata": {},
   "outputs": [],
   "source": [
    "sub_contrasts = list(chain(*[s.contrasts for s in sub_specs]))\n",
    "ds1_specs = ds1_node.run(sub_contrasts, group_by=ds1_node.group_by, **next_node.children[1].filter)"
   ]
  },
  {
   "cell_type": "code",
   "execution_count": null,
   "id": "f452419f",
   "metadata": {},
   "outputs": [],
   "source": [
    "%debug"
   ]
  },
  {
   "cell_type": "code",
   "execution_count": null,
   "id": "ebc5d085",
   "metadata": {},
   "outputs": [],
   "source": [
    "ds1_specs[0].X"
   ]
  },
  {
   "cell_type": "code",
   "execution_count": null,
   "id": "c34672ee",
   "metadata": {},
   "outputs": [],
   "source": [
    "pd.concat((ds1_specs[0].data, ds1_specs[0].metadata), axis=1)"
   ]
  },
  {
   "cell_type": "code",
   "execution_count": null,
   "id": "4cfe01b5",
   "metadata": {},
   "outputs": [],
   "source": [
    "ds1_specs[0].contrasts"
   ]
  },
  {
   "cell_type": "code",
   "execution_count": null,
   "id": "4d8700ce",
   "metadata": {},
   "outputs": [],
   "source": [
    "ds0_node = next_node.children[0].destination \n",
    "ds0_specs = ds0_node.run(sub_contrasts, group_by=ds0_node.group_by)"
   ]
  },
  {
   "cell_type": "code",
   "execution_count": null,
   "id": "6591023e",
   "metadata": {},
   "outputs": [],
   "source": [
    "ds0_specs"
   ]
  },
  {
   "cell_type": "code",
   "execution_count": null,
   "id": "63b12f0d",
   "metadata": {},
   "outputs": [],
   "source": [
    "ds0_specs[1].X"
   ]
  },
  {
   "cell_type": "code",
   "execution_count": null,
   "id": "de6029d1",
   "metadata": {},
   "outputs": [],
   "source": [
    "pd.concat((ds0_specs[0].data, ds0_specs[0].metadata), axis=1)"
   ]
  },
  {
   "cell_type": "code",
   "execution_count": null,
   "id": "025f55fb",
   "metadata": {},
   "outputs": [],
   "source": [
    "ds2_node = next_node.children[2].destination \n",
    "filters = next_node.children[2].filter or {}\n",
    "print(filters)\n",
    "ds2_specs = ds2_node.run(sub_contrasts, group_by=ds2_node.group_by, **filters)\n",
    "print(ds2_specs)"
   ]
  },
  {
   "cell_type": "code",
   "execution_count": null,
   "id": "15289043",
   "metadata": {},
   "outputs": [],
   "source": [
    "api(ds2_specs[0])"
   ]
  },
  {
   "cell_type": "code",
   "execution_count": null,
   "id": "01e1fb4b",
   "metadata": {},
   "outputs": [],
   "source": [
    "ds2_specs[0].X"
   ]
  },
  {
   "cell_type": "code",
   "execution_count": null,
   "id": "cd701099",
   "metadata": {},
   "outputs": [],
   "source": [
    "pd.concat((ds2_specs[0].data, ds2_specs[0].metadata), axis=1)"
   ]
  },
  {
   "cell_type": "code",
   "execution_count": null,
   "id": "98f24f14",
   "metadata": {},
   "outputs": [],
   "source": [
    "api(ds1_node)"
   ]
  },
  {
   "cell_type": "code",
   "execution_count": null,
   "id": "2f980585",
   "metadata": {},
   "outputs": [],
   "source": [
    "graph.nodes"
   ]
  },
  {
   "cell_type": "code",
   "execution_count": null,
   "id": "4bb371e7",
   "metadata": {},
   "outputs": [],
   "source": [
    "graph.root_node.children"
   ]
  },
  {
   "cell_type": "code",
   "execution_count": null,
   "id": "110dc29c",
   "metadata": {},
   "outputs": [],
   "source": [
    "graph.root_node.children[0].destination.children"
   ]
  },
  {
   "cell_type": "code",
   "execution_count": null,
   "id": "dd04da3f",
   "metadata": {},
   "outputs": [],
   "source": [
    "graph.root_node.children[0].destination.children[2].destination.name"
   ]
  },
  {
   "cell_type": "code",
   "execution_count": null,
   "id": "4bc1e961",
   "metadata": {},
   "outputs": [],
   "source": []
  }
 ],
 "metadata": {
  "jupytext": {
   "formats": "ipynb,md:myst"
  },
  "kernelspec": {
   "display_name": "Python 3 (ipykernel)",
   "language": "python",
   "name": "python3"
  },
  "language_info": {
   "codemirror_mode": {
    "name": "ipython",
    "version": 3
   },
   "file_extension": ".py",
   "mimetype": "text/x-python",
   "name": "python",
   "nbconvert_exporter": "python",
   "pygments_lexer": "ipython3",
   "version": "3.9.7"
  }
 },
 "nbformat": 4,
 "nbformat_minor": 5
}
