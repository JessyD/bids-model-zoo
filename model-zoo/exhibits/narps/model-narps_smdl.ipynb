{
 "cells": [
  {
   "cell_type": "markdown",
   "id": "e468135b",
   "metadata": {},
   "source": [
    "# Neuroimaging Analysis Replication and Prediction Study (NARPS)"
   ]
  },
  {
   "cell_type": "markdown",
   "id": "9860c981",
   "metadata": {},
   "source": [
    "Here, we specify the statistical model in the [NARPS](https://www.narps.info/) study using a BIDS Stats Model. The dataset is publicaly available on [OpenNeuro](https://openneuro.org/datasets/ds001734/)."
   ]
  },
  {
   "cell_type": "code",
   "execution_count": 1,
   "id": "41506b29",
   "metadata": {},
   "outputs": [
    {
     "name": "stderr",
     "output_type": "stream",
     "text": [
      "/home/zorro/anaconda3/lib/python3.9/site-packages/nilearn/datasets/__init__.py:93: FutureWarning: Fetchers from the nilearn.datasets module will be updated in version 0.9 to return python strings instead of bytes and Pandas dataframes instead of Numpy arrays.\n",
      "  warn(\"Fetchers from the nilearn.datasets module will be \"\n"
     ]
    }
   ],
   "source": [
    "import json\n",
    "from pathlib import Path\n",
    "from itertools import chain\n",
    "\n",
    "import numpy as np\n",
    "import pandas as pd\n",
    "\n",
    "from nilearn.plotting import plot_design_matrix\n",
    "\n",
    "import bids\n",
    "from bids.modeling import BIDSStatsModelsGraph\n",
    "from bids.layout import BIDSLayout\n",
    "\n",
    "def api(obj):\n",
    "    return {attr: getattr(obj, attr) for attr in dir(obj) if not attr[0] == '_'}"
   ]
  },
  {
   "cell_type": "code",
   "execution_count": 2,
   "id": "ee98899a",
   "metadata": {},
   "outputs": [],
   "source": [
    "layout = BIDSLayout('./ds001734/')"
   ]
  },
  {
   "cell_type": "code",
   "execution_count": 3,
   "id": "776baba9",
   "metadata": {},
   "outputs": [
    {
     "data": {
      "text/plain": [
       "{'Name': 'NARPS',\n",
       " 'Description': 'NARPS Analysis model',\n",
       " 'BIDSModelVersion': '1.0.0',\n",
       " 'Input': {'task': 'MGT'},\n",
       " 'Nodes': [{'Level': 'Run',\n",
       "   'Name': 'run',\n",
       "   'GroupBy': ['run', 'subject'],\n",
       "   'Transformations': {'Transformer': 'pybids-transforms-v1',\n",
       "    'Instructions': [{'Name': 'Threshold',\n",
       "      'Input': ['gain'],\n",
       "      'Binarize': True,\n",
       "      'Output': ['trials']},\n",
       "     {'Name': 'Scale',\n",
       "      'Input': ['gain', 'loss', 'RT'],\n",
       "      'Demean': True,\n",
       "      'Rescale': False,\n",
       "      'Output': ['gain', 'loss', 'demeaned_RT']},\n",
       "     {'Name': 'Convolve',\n",
       "      'Model': 'spm',\n",
       "      'Input': ['trials', 'gain', 'loss', 'demeaned_RT']}]},\n",
       "   'Model': {'X': ['trials', 'gain', 'loss', 'demeaned_RT', 1], 'Type': 'glm'},\n",
       "   'DummyContrasts': {'Conditions': ['trials', 'gain', 'loss'], 'Test': 't'}},\n",
       "  {'Level': 'Subject',\n",
       "   'Name': 'subject',\n",
       "   'GroupBy': ['subject', 'contrast'],\n",
       "   'Model': {'X': [1], 'Type': 'meta'},\n",
       "   'DummyContrasts': {'Test': 't'}},\n",
       "  {'Level': 'Dataset',\n",
       "   'Name': 'between-groups',\n",
       "   'GroupBy': ['contrast'],\n",
       "   'Model': {'X': [1, 'group'], 'Formula': '0 + C(group)'},\n",
       "   'Contrasts': [{'Name': 'range_vs_indiference',\n",
       "     'ConditionList': ['C(group)[T.equalRange]',\n",
       "      'C(group)[T.equalIndifference]'],\n",
       "     'Weights': [1, -1],\n",
       "     'Test': 't'}]},\n",
       "  {'Level': 'Dataset',\n",
       "   'Name': 'positive',\n",
       "   'GroupBy': ['contrast', 'group'],\n",
       "   'Model': {'X': [1]},\n",
       "   'DummyContrasts': {'Test': 't'}},\n",
       "  {'Level': 'Dataset',\n",
       "   'Name': 'negative-loss',\n",
       "   'GroupBy': ['contrast', 'group'],\n",
       "   'Model': {'X': [1]},\n",
       "   'Contrasts': [{'Name': 'negative',\n",
       "     'ConditionList': [1],\n",
       "     'Weights': [-1],\n",
       "     'Test': 't'}]}],\n",
       " 'Edges': [{'Source': 'run', 'Destination': 'subject'},\n",
       "  {'Source': 'subject', 'Destination': 'positive'},\n",
       "  {'Source': 'subject',\n",
       "   'Destination': 'negative-loss',\n",
       "   'Filter': {'contrast': ['loss']}},\n",
       "  {'Source': 'subject',\n",
       "   'Destination': 'between-groups',\n",
       "   'Filter': {'contrast': ['loss']}}]}"
      ]
     },
     "execution_count": 3,
     "metadata": {},
     "output_type": "execute_result"
    }
   ],
   "source": [
    "json_file = './model-narps_smdl.json'\n",
    "spec = json.loads(Path(json_file).read_text())\n",
    "spec"
   ]
  },
  {
   "cell_type": "code",
   "execution_count": 4,
   "id": "abf1b7e1-be06-420a-8cbe-67b128e5bdde",
   "metadata": {},
   "outputs": [],
   "source": [
    "spec['Input'] = {\n",
    "    'task': 'MGT',\n",
    "    'subject': ['001', '002', '003']\n",
    "}"
   ]
  },
  {
   "cell_type": "code",
   "execution_count": 5,
   "id": "306ae1ae",
   "metadata": {},
   "outputs": [],
   "source": [
    "graph = BIDSStatsModelsGraph(layout, spec)"
   ]
  },
  {
   "cell_type": "code",
   "execution_count": 109,
   "id": "e545a269",
   "metadata": {},
   "outputs": [
    {
     "ename": "AttributeError",
     "evalue": "'BIDSStatsModelsGraph' object has no attribute 'variables'",
     "output_type": "error",
     "traceback": [
      "\u001b[0;31m---------------------------------------------------------------------------\u001b[0m",
      "\u001b[0;31mAttributeError\u001b[0m                            Traceback (most recent call last)",
      "\u001b[0;32m/tmp/ipykernel_60937/3707857975.py\u001b[0m in \u001b[0;36m<module>\u001b[0;34m\u001b[0m\n\u001b[0;32m----> 1\u001b[0;31m \u001b[0mgraph\u001b[0m\u001b[0;34m.\u001b[0m\u001b[0mvariables\u001b[0m\u001b[0;34m\u001b[0m\u001b[0;34m\u001b[0m\u001b[0m\n\u001b[0m",
      "\u001b[0;31mAttributeError\u001b[0m: 'BIDSStatsModelsGraph' object has no attribute 'variables'"
     ]
    }
   ],
   "source": [
    "graph.variables"
   ]
  },
  {
   "cell_type": "code",
   "execution_count": 6,
   "id": "ea198136",
   "metadata": {},
   "outputs": [
    {
     "data": {
      "image/svg+xml": "<?xml version=\"1.0\" encoding=\"UTF-8\" standalone=\"no\"?>\n<!DOCTYPE svg PUBLIC \"-//W3C//DTD SVG 1.1//EN\"\n \"http://www.w3.org/Graphics/SVG/1.1/DTD/svg11.dtd\">\n<!-- Generated by graphviz version 2.43.0 (0)\n -->\n<!-- Title: structs Pages: 1 -->\n<svg width=\"842pt\" height=\"191pt\"\n viewBox=\"0.00 0.00 841.50 191.00\" xmlns=\"http://www.w3.org/2000/svg\" xmlns:xlink=\"http://www.w3.org/1999/xlink\">\n<g id=\"graph0\" class=\"graph\" transform=\"scale(1 1) rotate(0) translate(4 187)\">\n<title>structs</title>\n<polygon fill=\"white\" stroke=\"transparent\" points=\"-4,4 -4,-187 837.5,-187 837.5,4 -4,4\"/>\n<!-- run -->\n<g id=\"node1\" class=\"node\">\n<title>run</title>\n<polygon fill=\"none\" stroke=\"black\" points=\"340.5,-146.5 340.5,-182.5 513.5,-182.5 513.5,-146.5 340.5,-146.5\"/>\n<text text-anchor=\"middle\" x=\"385\" y=\"-160.8\" font-family=\"Times,serif\" font-size=\"14.00\">name: run</text>\n<polyline fill=\"none\" stroke=\"black\" points=\"429.5,-146.5 429.5,-182.5 \"/>\n<text text-anchor=\"middle\" x=\"471.5\" y=\"-160.8\" font-family=\"Times,serif\" font-size=\"14.00\">level: run</text>\n</g>\n<!-- subject -->\n<g id=\"node2\" class=\"node\">\n<title>subject</title>\n<polygon fill=\"none\" stroke=\"black\" points=\"313.5,-73.5 313.5,-109.5 540.5,-109.5 540.5,-73.5 313.5,-73.5\"/>\n<text text-anchor=\"middle\" x=\"371.5\" y=\"-87.8\" font-family=\"Times,serif\" font-size=\"14.00\">name: subject</text>\n<polyline fill=\"none\" stroke=\"black\" points=\"429.5,-73.5 429.5,-109.5 \"/>\n<text text-anchor=\"middle\" x=\"485\" y=\"-87.8\" font-family=\"Times,serif\" font-size=\"14.00\">level: subject</text>\n</g>\n<!-- run&#45;&gt;subject -->\n<g id=\"edge1\" class=\"edge\">\n<title>run&#45;&gt;subject</title>\n<path fill=\"none\" stroke=\"black\" d=\"M427,-146.31C427,-138.29 427,-128.55 427,-119.57\"/>\n<polygon fill=\"black\" stroke=\"black\" points=\"430.5,-119.53 427,-109.53 423.5,-119.53 430.5,-119.53\"/>\n</g>\n<!-- between&#45;groups -->\n<g id=\"node3\" class=\"node\">\n<title>between&#45;groups</title>\n<polygon fill=\"none\" stroke=\"black\" points=\"0,-0.5 0,-36.5 292,-36.5 292,-0.5 0,-0.5\"/>\n<text text-anchor=\"middle\" x=\"89.5\" y=\"-14.8\" font-family=\"Times,serif\" font-size=\"14.00\">name: between&#45;groups</text>\n<polyline fill=\"none\" stroke=\"black\" points=\"179,-0.5 179,-36.5 \"/>\n<text text-anchor=\"middle\" x=\"235.5\" y=\"-14.8\" font-family=\"Times,serif\" font-size=\"14.00\">level: dataset</text>\n</g>\n<!-- subject&#45;&gt;between&#45;groups -->\n<g id=\"edge4\" class=\"edge\">\n<title>subject&#45;&gt;between&#45;groups</title>\n<path fill=\"none\" stroke=\"black\" d=\"M359.69,-73.49C318.72,-63.14 266.23,-49.88 223.52,-39.09\"/>\n<polygon fill=\"black\" stroke=\"black\" points=\"224.28,-35.67 213.73,-36.61 222.57,-42.46 224.28,-35.67\"/>\n</g>\n<!-- positive -->\n<g id=\"node4\" class=\"node\">\n<title>positive</title>\n<polygon fill=\"none\" stroke=\"black\" points=\"310,-0.5 310,-36.5 544,-36.5 544,-0.5 310,-0.5\"/>\n<text text-anchor=\"middle\" x=\"370.5\" y=\"-14.8\" font-family=\"Times,serif\" font-size=\"14.00\">name: positive</text>\n<polyline fill=\"none\" stroke=\"black\" points=\"431,-0.5 431,-36.5 \"/>\n<text text-anchor=\"middle\" x=\"487.5\" y=\"-14.8\" font-family=\"Times,serif\" font-size=\"14.00\">level: dataset</text>\n</g>\n<!-- subject&#45;&gt;positive -->\n<g id=\"edge2\" class=\"edge\">\n<title>subject&#45;&gt;positive</title>\n<path fill=\"none\" stroke=\"black\" d=\"M427,-73.31C427,-65.29 427,-55.55 427,-46.57\"/>\n<polygon fill=\"black\" stroke=\"black\" points=\"430.5,-46.53 427,-36.53 423.5,-46.53 430.5,-46.53\"/>\n</g>\n<!-- negative&#45;loss -->\n<g id=\"node5\" class=\"node\">\n<title>negative&#45;loss</title>\n<polygon fill=\"none\" stroke=\"black\" points=\"562.5,-0.5 562.5,-36.5 833.5,-36.5 833.5,-0.5 562.5,-0.5\"/>\n<text text-anchor=\"middle\" x=\"641.5\" y=\"-14.8\" font-family=\"Times,serif\" font-size=\"14.00\">name: negative&#45;loss</text>\n<polyline fill=\"none\" stroke=\"black\" points=\"720.5,-0.5 720.5,-36.5 \"/>\n<text text-anchor=\"middle\" x=\"777\" y=\"-14.8\" font-family=\"Times,serif\" font-size=\"14.00\">level: dataset</text>\n</g>\n<!-- subject&#45;&gt;negative&#45;loss -->\n<g id=\"edge3\" class=\"edge\">\n<title>subject&#45;&gt;negative&#45;loss</title>\n<path fill=\"none\" stroke=\"black\" d=\"M491.91,-73.49C531.34,-63.16 581.84,-49.93 622.98,-39.16\"/>\n<polygon fill=\"black\" stroke=\"black\" points=\"623.89,-42.53 632.68,-36.61 622.12,-35.76 623.89,-42.53\"/>\n</g>\n</g>\n</svg>\n",
      "text/plain": [
       "<graphviz.graphs.Digraph at 0x7f693bcf7190>"
      ]
     },
     "execution_count": 6,
     "metadata": {},
     "output_type": "execute_result"
    }
   ],
   "source": [
    "graph.write_graph(format='svg')"
   ]
  },
  {
   "cell_type": "code",
   "execution_count": 7,
   "id": "fc72114c",
   "metadata": {},
   "outputs": [],
   "source": [
    "root_node = graph.root_node"
   ]
  },
  {
   "cell_type": "code",
   "execution_count": 110,
   "id": "f94a0cbc",
   "metadata": {},
   "outputs": [
    {
     "data": {
      "text/plain": [
       "[<BIDSRunVariableCollection['loss', 'gain', 'RT', 'participant_response']>,\n",
       " <BIDSRunVariableCollection['loss', 'gain', 'RT', 'participant_response']>,\n",
       " <BIDSRunVariableCollection['loss', 'gain', 'RT', 'participant_response']>,\n",
       " <BIDSRunVariableCollection['loss', 'gain', 'RT', 'participant_response']>,\n",
       " <BIDSRunVariableCollection['loss', 'gain', 'RT', 'participant_response']>,\n",
       " <BIDSRunVariableCollection['loss', 'gain', 'RT', 'participant_response']>,\n",
       " <BIDSRunVariableCollection['loss', 'gain', 'RT', 'participant_response']>,\n",
       " <BIDSRunVariableCollection['loss', 'gain', 'RT', 'participant_response']>,\n",
       " <BIDSRunVariableCollection['loss', 'gain', 'RT', 'participant_response']>,\n",
       " <BIDSRunVariableCollection['loss', 'gain', 'RT', 'participant_response']>,\n",
       " <BIDSRunVariableCollection['loss', 'gain', 'RT', 'participant_response']>,\n",
       " <BIDSRunVariableCollection['loss', 'gain', 'RT', 'participant_response']>]"
      ]
     },
     "execution_count": 110,
     "metadata": {},
     "output_type": "execute_result"
    }
   ],
   "source": [
    "root_node.get_collections()"
   ]
  },
  {
   "cell_type": "code",
   "execution_count": 8,
   "id": "aecd1f8a",
   "metadata": {},
   "outputs": [],
   "source": [
    "try:\n",
    "    graph.load_collections()\n",
    "except ValueError:\n",
    "    graph.load_collections(scan_length=453)  # TR = 1, nvols = 453"
   ]
  },
  {
   "cell_type": "code",
   "execution_count": 9,
   "id": "faea9424",
   "metadata": {},
   "outputs": [],
   "source": [
    "coll = root_node.get_collections()[0]"
   ]
  },
  {
   "cell_type": "code",
   "execution_count": 105,
   "id": "c78187e2",
   "metadata": {},
   "outputs": [
    {
     "data": {
      "text/plain": [
       "<SparseRunVariable(name='loss', source='events')>"
      ]
     },
     "execution_count": 105,
     "metadata": {},
     "output_type": "execute_result"
    }
   ],
   "source": [
    "coll.variables['loss']"
   ]
  },
  {
   "cell_type": "code",
   "execution_count": 10,
   "id": "6d11ebe6",
   "metadata": {},
   "outputs": [
    {
     "name": "stderr",
     "output_type": "stream",
     "text": [
      "/home/zorro/repos/pybids/bids/modeling/statsmodels.py:728: UserWarning: Use 'Contrasts' not 'Conditions' or 'ConditionList' to specifyDummyContrasts. Renaming to 'Contrasts' for now.\n",
      "  warnings.warn(\n"
     ]
    }
   ],
   "source": [
    "specs = root_node.run(group_by=root_node.group_by, force_dense=False)"
   ]
  },
  {
   "cell_type": "code",
   "execution_count": 107,
   "id": "d689e7e8",
   "metadata": {},
   "outputs": [
    {
     "data": {
      "text/plain": [
       "<BIDSStatsModelsNode(level=run, name=run)>"
      ]
     },
     "execution_count": 107,
     "metadata": {},
     "output_type": "execute_result"
    }
   ],
   "source": [
    "root_node"
   ]
  },
  {
   "cell_type": "code",
   "execution_count": 89,
   "id": "c93a5b3b",
   "metadata": {},
   "outputs": [],
   "source": [
    "s.model_spec."
   ]
  },
  {
   "cell_type": "code",
   "execution_count": 104,
   "id": "f94ee627",
   "metadata": {},
   "outputs": [
    {
     "data": {
      "text/plain": [
       "<BIDSStatsModelsGraph[{name='NARPS', description='NARPS Analysis model', ... }]>"
      ]
     },
     "execution_count": 104,
     "metadata": {},
     "output_type": "execute_result"
    }
   ],
   "source": [
    "graph"
   ]
  },
  {
   "cell_type": "code",
   "execution_count": 50,
   "id": "c6eb42a4",
   "metadata": {},
   "outputs": [
    {
     "data": {
      "text/plain": [
       "{'name': 'NARPS', 'description': 'NARPS Analysis model'}"
      ]
     },
     "execution_count": 50,
     "metadata": {},
     "output_type": "execute_result"
    }
   ],
   "source": [
    "min_graph"
   ]
  },
  {
   "cell_type": "code",
   "execution_count": 51,
   "id": "598464d5",
   "metadata": {},
   "outputs": [
    {
     "data": {
      "text/plain": [
       "{'name': 'NARPS',\n",
       " 'description': 'NARPS Analysis model',\n",
       " 'bids_model_version': '1.0.0',\n",
       " 'input': {'task': 'MGT', 'subject': ['001', '002', '003']},\n",
       " 'nodes': [{'level': 'Run',\n",
       "   'name': 'run',\n",
       "   'group_by': ['run', 'subject'],\n",
       "   'transformations': {'transformer': 'pybids-transforms-v1',\n",
       "    'instructions': [{'name': 'Threshold',\n",
       "      'input': ['gain'],\n",
       "      'binarize': True,\n",
       "      'output': ['trials']},\n",
       "     {'name': 'Scale',\n",
       "      'input': ['gain', 'loss', 'RT'],\n",
       "      'demean': True,\n",
       "      'rescale': False,\n",
       "      'output': ['gain', 'loss', 'demeaned_RT']},\n",
       "     {'name': 'Convolve',\n",
       "      'model': 'spm',\n",
       "      'input': ['trials', 'gain', 'loss', 'demeaned_RT']}]},\n",
       "   'model': {'x': ['trials', 'gain', 'loss', 'demeaned_RT', 1], 'type': 'glm'},\n",
       "   'dummy_contrasts': {'test': 't', 'contrasts': ['trials', 'gain', 'loss']}},\n",
       "  {'level': 'Subject',\n",
       "   'name': 'subject',\n",
       "   'group_by': ['subject', 'contrast'],\n",
       "   'model': {'x': [1], 'type': 'meta'},\n",
       "   'dummy_contrasts': {'test': 't'}},\n",
       "  {'level': 'Dataset',\n",
       "   'name': 'between-groups',\n",
       "   'group_by': ['contrast'],\n",
       "   'model': {'x': [1, 'group'], 'formula': '0 + C(group)'},\n",
       "   'contrasts': [{'name': 'range_vs_indiference',\n",
       "     'condition_list': ['C(group)[T.equalRange]',\n",
       "      'C(group)[T.equalIndifference]'],\n",
       "     'weights': [1, -1],\n",
       "     'test': 't'}]},\n",
       "  {'level': 'Dataset',\n",
       "   'name': 'positive',\n",
       "   'group_by': ['contrast', 'group'],\n",
       "   'model': {'x': [1]},\n",
       "   'dummy_contrasts': {'test': 't'}},\n",
       "  {'level': 'Dataset',\n",
       "   'name': 'negative-loss',\n",
       "   'group_by': ['contrast', 'group'],\n",
       "   'model': {'x': [1]},\n",
       "   'contrasts': [{'name': 'negative',\n",
       "     'condition_list': [1],\n",
       "     'weights': [-1],\n",
       "     'test': 't'}]}],\n",
       " 'edges': [{'source': 'run', 'destination': 'subject'},\n",
       "  {'source': 'subject', 'destination': 'positive'},\n",
       "  {'source': 'subject',\n",
       "   'destination': 'negative-loss',\n",
       "   'filter': {'contrast': ['loss']}},\n",
       "  {'source': 'subject',\n",
       "   'destination': 'between-groups',\n",
       "   'filter': {'contrast': ['loss']}}]}"
      ]
     },
     "execution_count": 51,
     "metadata": {},
     "output_type": "execute_result"
    }
   ],
   "source": [
    "graph.model"
   ]
  },
  {
   "cell_type": "code",
   "execution_count": 37,
   "id": "6af235c3",
   "metadata": {},
   "outputs": [
    {
     "ename": "TypeError",
     "evalue": "__init__() got an unexpected keyword argument 'maxdict'",
     "output_type": "error",
     "traceback": [
      "\u001b[0;31m---------------------------------------------------------------------------\u001b[0m",
      "\u001b[0;31mTypeError\u001b[0m                                 Traceback (most recent call last)",
      "\u001b[0;32m/tmp/ipykernel_60937/1351581904.py\u001b[0m in \u001b[0;36m<module>\u001b[0;34m\u001b[0m\n\u001b[0;32m----> 1\u001b[0;31m \u001b[0mreprlib\u001b[0m\u001b[0;34m.\u001b[0m\u001b[0mRepr\u001b[0m\u001b[0;34m(\u001b[0m\u001b[0mmaxdict\u001b[0m\u001b[0;34m=\u001b[0m\u001b[0;36m2\u001b[0m\u001b[0;34m)\u001b[0m\u001b[0;34m.\u001b[0m\u001b[0mrepr\u001b[0m\u001b[0;34m(\u001b[0m\u001b[0mgraph\u001b[0m\u001b[0;34m.\u001b[0m\u001b[0mmodel\u001b[0m\u001b[0;34m)\u001b[0m\u001b[0;34m\u001b[0m\u001b[0;34m\u001b[0m\u001b[0m\n\u001b[0m",
      "\u001b[0;31mTypeError\u001b[0m: __init__() got an unexpected keyword argument 'maxdict'"
     ]
    }
   ],
   "source": [
    "reprlib.Repr(maxdict=2).repr(graph.model)"
   ]
  },
  {
   "cell_type": "code",
   "execution_count": 11,
   "id": "875fbbf1",
   "metadata": {},
   "outputs": [],
   "source": [
    "s = specs[0]"
   ]
  },
  {
   "cell_type": "code",
   "execution_count": 24,
   "id": "c77036ec",
   "metadata": {},
   "outputs": [
    {
     "data": {
      "text/plain": [
       "<BIDSStatsModelsNodeOutput[<BIDSStatsModelsNode[run] run>]>"
      ]
     },
     "execution_count": 24,
     "metadata": {},
     "output_type": "execute_result"
    }
   ],
   "source": [
    "s"
   ]
  },
  {
   "cell_type": "code",
   "execution_count": 22,
   "id": "78f41c49",
   "metadata": {},
   "outputs": [
    {
     "data": {
      "text/plain": [
       "<BIDSStatsModelsNode[run] run>"
      ]
     },
     "execution_count": 22,
     "metadata": {},
     "output_type": "execute_result"
    }
   ],
   "source": [
    "self"
   ]
  },
  {
   "cell_type": "code",
   "execution_count": 19,
   "id": "4e6dcafa",
   "metadata": {},
   "outputs": [
    {
     "data": {
      "text/plain": [
       "<bids.modeling.statsmodels.BIDSStatsModelsNodeOutput at 0x7f693bc65250>"
      ]
     },
     "execution_count": 19,
     "metadata": {},
     "output_type": "execute_result"
    }
   ],
   "source": [
    "f\"<{self.__class__.__name__}[{self.level}] {self.name}>\""
   ]
  },
  {
   "cell_type": "code",
   "execution_count": null,
   "id": "ef7826e4",
   "metadata": {},
   "outputs": [],
   "source": [
    "api(specs[0])"
   ]
  },
  {
   "cell_type": "code",
   "execution_count": null,
   "id": "04ee0d90",
   "metadata": {},
   "outputs": [],
   "source": [
    "specs[0]"
   ]
  },
  {
   "cell_type": "code",
   "execution_count": null,
   "id": "8b637d60",
   "metadata": {},
   "outputs": [],
   "source": [
    "plot_design_matrix(specs[0].X)"
   ]
  },
  {
   "cell_type": "code",
   "execution_count": null,
   "id": "33ab10dd",
   "metadata": {},
   "outputs": [],
   "source": [
    "specs[0].entities"
   ]
  },
  {
   "cell_type": "code",
   "execution_count": null,
   "id": "dad2f0d2",
   "metadata": {},
   "outputs": [],
   "source": [
    "specs[0].metadata"
   ]
  },
  {
   "cell_type": "code",
   "execution_count": null,
   "id": "017122aa",
   "metadata": {},
   "outputs": [],
   "source": [
    "bold = layout.get(**specs[0].entities, suffix='bold', extension='.nii.gz')[0]"
   ]
  },
  {
   "cell_type": "code",
   "execution_count": null,
   "id": "bef11702",
   "metadata": {},
   "outputs": [],
   "source": [
    "# import nilearn.glm\n",
    "# l1m = nilearn.glm.first_level.FirstLevelModel()\n",
    "# l1m.fit(bold.get_image(), design_matrices=specs[0].X)"
   ]
  },
  {
   "cell_type": "code",
   "execution_count": null,
   "id": "8c9d9c06",
   "metadata": {},
   "outputs": [],
   "source": [
    "next_node = root_node.children[0].destination"
   ]
  },
  {
   "cell_type": "code",
   "execution_count": null,
   "id": "744dbf20",
   "metadata": {},
   "outputs": [],
   "source": [
    "next_node.group_by"
   ]
  },
  {
   "cell_type": "code",
   "execution_count": null,
   "id": "cbec8a70",
   "metadata": {},
   "outputs": [],
   "source": [
    "root_node.children[0].filter"
   ]
  },
  {
   "cell_type": "code",
   "execution_count": null,
   "id": "0092651e",
   "metadata": {},
   "outputs": [],
   "source": [
    "contrasts = list(chain(*[s.contrasts for s in specs]))\n",
    "sub_specs = next_node.run(contrasts, group_by=next_node.group_by)"
   ]
  },
  {
   "cell_type": "code",
   "execution_count": null,
   "id": "8ce0b8ff",
   "metadata": {},
   "outputs": [],
   "source": [
    "api(sub_specs[3])"
   ]
  },
  {
   "cell_type": "code",
   "execution_count": null,
   "id": "65c06c21",
   "metadata": {},
   "outputs": [],
   "source": [
    "ds1_node = next_node.children[1].destination\n",
    "api(ds1_node)"
   ]
  },
  {
   "cell_type": "code",
   "execution_count": null,
   "id": "6f7cdcd8",
   "metadata": {},
   "outputs": [],
   "source": [
    "next_node.children[1].filter"
   ]
  },
  {
   "cell_type": "code",
   "execution_count": null,
   "id": "f9f660eb",
   "metadata": {},
   "outputs": [],
   "source": [
    "sub_contrasts = list(chain(*[s.contrasts for s in sub_specs]))\n",
    "ds1_specs = ds1_node.run(sub_contrasts, group_by=ds1_node.group_by, **next_node.children[1].filter)"
   ]
  },
  {
   "cell_type": "code",
   "execution_count": null,
   "id": "f452419f",
   "metadata": {},
   "outputs": [],
   "source": [
    "%debug"
   ]
  },
  {
   "cell_type": "code",
   "execution_count": null,
   "id": "ebc5d085",
   "metadata": {},
   "outputs": [],
   "source": [
    "ds1_specs[0].X"
   ]
  },
  {
   "cell_type": "code",
   "execution_count": null,
   "id": "c34672ee",
   "metadata": {},
   "outputs": [],
   "source": [
    "pd.concat((ds1_specs[0].data, ds1_specs[0].metadata), axis=1)"
   ]
  },
  {
   "cell_type": "code",
   "execution_count": null,
   "id": "4cfe01b5",
   "metadata": {},
   "outputs": [],
   "source": [
    "ds1_specs[0].contrasts"
   ]
  },
  {
   "cell_type": "code",
   "execution_count": null,
   "id": "4d8700ce",
   "metadata": {},
   "outputs": [],
   "source": [
    "ds0_node = next_node.children[0].destination \n",
    "ds0_specs = ds0_node.run(sub_contrasts, group_by=ds0_node.group_by)"
   ]
  },
  {
   "cell_type": "code",
   "execution_count": null,
   "id": "6591023e",
   "metadata": {},
   "outputs": [],
   "source": [
    "ds0_specs"
   ]
  },
  {
   "cell_type": "code",
   "execution_count": null,
   "id": "63b12f0d",
   "metadata": {},
   "outputs": [],
   "source": [
    "ds0_specs[1].X"
   ]
  },
  {
   "cell_type": "code",
   "execution_count": null,
   "id": "de6029d1",
   "metadata": {},
   "outputs": [],
   "source": [
    "pd.concat((ds0_specs[0].data, ds0_specs[0].metadata), axis=1)"
   ]
  },
  {
   "cell_type": "code",
   "execution_count": null,
   "id": "025f55fb",
   "metadata": {},
   "outputs": [],
   "source": [
    "ds2_node = next_node.children[2].destination \n",
    "filters = next_node.children[2].filter or {}\n",
    "print(filters)\n",
    "ds2_specs = ds2_node.run(sub_contrasts, group_by=ds2_node.group_by, **filters)\n",
    "print(ds2_specs)"
   ]
  },
  {
   "cell_type": "code",
   "execution_count": null,
   "id": "15289043",
   "metadata": {},
   "outputs": [],
   "source": [
    "api(ds2_specs[0])"
   ]
  },
  {
   "cell_type": "code",
   "execution_count": null,
   "id": "01e1fb4b",
   "metadata": {},
   "outputs": [],
   "source": [
    "ds2_specs[0].X"
   ]
  },
  {
   "cell_type": "code",
   "execution_count": null,
   "id": "cd701099",
   "metadata": {},
   "outputs": [],
   "source": [
    "pd.concat((ds2_specs[0].data, ds2_specs[0].metadata), axis=1)"
   ]
  },
  {
   "cell_type": "code",
   "execution_count": null,
   "id": "98f24f14",
   "metadata": {},
   "outputs": [],
   "source": [
    "api(ds1_node)"
   ]
  },
  {
   "cell_type": "code",
   "execution_count": null,
   "id": "2f980585",
   "metadata": {},
   "outputs": [],
   "source": [
    "graph.nodes"
   ]
  },
  {
   "cell_type": "code",
   "execution_count": null,
   "id": "4bb371e7",
   "metadata": {},
   "outputs": [],
   "source": [
    "graph.root_node.children"
   ]
  },
  {
   "cell_type": "code",
   "execution_count": null,
   "id": "110dc29c",
   "metadata": {},
   "outputs": [],
   "source": [
    "graph.root_node.children[0].destination.children"
   ]
  },
  {
   "cell_type": "code",
   "execution_count": null,
   "id": "dd04da3f",
   "metadata": {},
   "outputs": [],
   "source": [
    "graph.root_node.children[0].destination.children[2].destination.name"
   ]
  },
  {
   "cell_type": "code",
   "execution_count": null,
   "id": "4bc1e961",
   "metadata": {},
   "outputs": [],
   "source": []
  }
 ],
 "metadata": {
  "jupytext": {
   "formats": "ipynb,md:myst"
  },
  "kernelspec": {
   "display_name": "Python 3.9.7 ('base')",
   "language": "python",
   "name": "python3"
  },
  "language_info": {
   "codemirror_mode": {
    "name": "ipython",
    "version": 3
   },
   "file_extension": ".py",
   "mimetype": "text/x-python",
   "name": "python",
   "nbconvert_exporter": "python",
   "pygments_lexer": "ipython3",
   "version": "3.9.7"
  },
  "vscode": {
   "interpreter": {
    "hash": "28c4c14321ed476b30102c645b08ab3b51608c74fc02fade5a793611938eb7b0"
   }
  }
 },
 "nbformat": 4,
 "nbformat_minor": 5
}
