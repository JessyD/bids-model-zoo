{
 "cells": [
  {
   "cell_type": "markdown",
   "id": "e468135b",
   "metadata": {},
   "source": [
    "# Neuroimaging Analysis Replication and Prediction Study (NARPS)"
   ]
  },
  {
   "cell_type": "markdown",
   "id": "9860c981",
   "metadata": {},
   "source": [
    "Here, we specify the statistical model in the [NARPS](https://www.narps.info/) study using a _BIDS Stats Model_. \n",
    "\n",
    "The dataset is publicaly available on [OpenNeuro](https://openneuro.org/datasets/ds001734/)."
   ]
  },
  {
   "cell_type": "markdown",
   "id": "67f55c35",
   "metadata": {},
   "source": [
    "#### Setup"
   ]
  },
  {
   "cell_type": "code",
   "execution_count": 1,
   "id": "41506b29",
   "metadata": {},
   "outputs": [
    {
     "name": "stderr",
     "output_type": "stream",
     "text": [
      "/home/zorro/anaconda3/lib/python3.9/site-packages/nilearn/datasets/__init__.py:93: FutureWarning: Fetchers from the nilearn.datasets module will be updated in version 0.9 to return python strings instead of bytes and Pandas dataframes instead of Numpy arrays.\n",
      "  warn(\"Fetchers from the nilearn.datasets module will be \"\n"
     ]
    }
   ],
   "source": [
    "import json\n",
    "from pathlib import Path\n",
    "from itertools import chain\n",
    "\n",
    "import numpy as np\n",
    "import pandas as pd\n",
    "\n",
    "from nilearn.plotting import plot_design_matrix\n",
    "\n",
    "import bids\n",
    "from bids.modeling import BIDSStatsModelsGraph\n",
    "from bids.layout import BIDSLayout"
   ]
  },
  {
   "cell_type": "markdown",
   "id": "b92c73a1",
   "metadata": {},
   "source": [
    "First, we set up the `BIDSLayout` object..."
   ]
  },
  {
   "cell_type": "code",
   "execution_count": 2,
   "id": "ee98899a",
   "metadata": {},
   "outputs": [],
   "source": [
    "layout = BIDSLayout('./ds001734/')"
   ]
  },
  {
   "cell_type": "markdown",
   "id": "38065562",
   "metadata": {},
   "source": [
    "... and load the _BIDS Stats Model_ JSON specification:"
   ]
  },
  {
   "cell_type": "code",
   "execution_count": 3,
   "id": "776baba9",
   "metadata": {},
   "outputs": [
    {
     "data": {
      "text/plain": [
       "{'Name': 'NARPS',\n",
       " 'Description': 'NARPS Analysis model',\n",
       " 'BIDSModelVersion': '1.0.0',\n",
       " 'Input': {'task': 'MGT'},\n",
       " 'Nodes': [{'Level': 'Run',\n",
       "   'Name': 'run',\n",
       "   'GroupBy': ['run', 'subject'],\n",
       "   'Transformations': {'Transformer': 'pybids-transforms-v1',\n",
       "    'Instructions': [{'Name': 'Threshold',\n",
       "      'Input': ['gain'],\n",
       "      'Binarize': True,\n",
       "      'Output': ['trials']},\n",
       "     {'Name': 'Scale',\n",
       "      'Input': ['gain', 'loss', 'RT'],\n",
       "      'Demean': True,\n",
       "      'Rescale': False,\n",
       "      'Output': ['gain', 'loss', 'demeaned_RT']},\n",
       "     {'Name': 'Convolve',\n",
       "      'Model': 'spm',\n",
       "      'Input': ['trials', 'gain', 'loss', 'demeaned_RT']}]},\n",
       "   'Model': {'X': ['trials', 'gain', 'loss', 'demeaned_RT', 1], 'Type': 'glm'},\n",
       "   'DummyContrasts': {'Conditions': ['trials', 'gain', 'loss'], 'Test': 't'}},\n",
       "  {'Level': 'Subject',\n",
       "   'Name': 'subject',\n",
       "   'GroupBy': ['subject', 'contrast'],\n",
       "   'Model': {'X': [1], 'Type': 'meta'},\n",
       "   'DummyContrasts': {'Test': 't'}},\n",
       "  {'Level': 'Dataset',\n",
       "   'Name': 'positive',\n",
       "   'GroupBy': ['contrast', 'group'],\n",
       "   'Model': {'X': [1]},\n",
       "   'DummyContrasts': {'Test': 't'}},\n",
       "  {'Level': 'Dataset',\n",
       "   'Name': 'negative-loss',\n",
       "   'GroupBy': ['contrast', 'group'],\n",
       "   'Model': {'X': [1]},\n",
       "   'Contrasts': [{'Name': 'negative',\n",
       "     'ConditionList': [1],\n",
       "     'Weights': [-1],\n",
       "     'Test': 't'}]},\n",
       "  {'Level': 'Dataset',\n",
       "   'Name': 'between-groups',\n",
       "   'GroupBy': ['contrast'],\n",
       "   'Model': {'X': [1, 'group'], 'Formula': '0 + C(group)'},\n",
       "   'Contrasts': [{'Name': 'range_vs_indiference',\n",
       "     'ConditionList': ['C(group)[T.equalRange]',\n",
       "      'C(group)[T.equalIndifference]'],\n",
       "     'Weights': [1, -1],\n",
       "     'Test': 't'}]}],\n",
       " 'Edges': [{'Source': 'run', 'Destination': 'subject'},\n",
       "  {'Source': 'subject', 'Destination': 'positive'},\n",
       "  {'Source': 'subject',\n",
       "   'Destination': 'negative-loss',\n",
       "   'Filter': {'contrast': ['loss']}},\n",
       "  {'Source': 'subject',\n",
       "   'Destination': 'between-groups',\n",
       "   'Filter': {'contrast': ['loss']}}]}"
      ]
     },
     "execution_count": 3,
     "metadata": {},
     "output_type": "execute_result"
    }
   ],
   "source": [
    "json_file = './model-narps_smdl.json'\n",
    "spec = json.loads(Path(json_file).read_text())\n",
    "spec"
   ]
  },
  {
   "cell_type": "markdown",
   "id": "173cbf57",
   "metadata": {},
   "source": [
    "### Initializing Model"
   ]
  },
  {
   "cell_type": "markdown",
   "id": "2ce28b59",
   "metadata": {},
   "source": [
    "Here, we modify the model to restrict it to a single task and three subjects (for demonstration purposes), and initialize the `BIDSStatsModelGraph` object:"
   ]
  },
  {
   "cell_type": "code",
   "execution_count": 4,
   "id": "abf1b7e1-be06-420a-8cbe-67b128e5bdde",
   "metadata": {},
   "outputs": [],
   "source": [
    "spec['Input'] = {\n",
    "    'task': 'MGT',\n",
    "    'subject': ['001', '002', '003']\n",
    "}\n",
    "\n",
    "graph = BIDSStatsModelsGraph(layout, spec)"
   ]
  },
  {
   "cell_type": "markdown",
   "id": "7f537126",
   "metadata": {},
   "source": [
    "We can visualize the model as a graph:"
   ]
  },
  {
   "cell_type": "code",
   "execution_count": 5,
   "id": "ea198136",
   "metadata": {},
   "outputs": [
    {
     "data": {
      "image/svg+xml": "<?xml version=\"1.0\" encoding=\"UTF-8\" standalone=\"no\"?>\n<!DOCTYPE svg PUBLIC \"-//W3C//DTD SVG 1.1//EN\"\n \"http://www.w3.org/Graphics/SVG/1.1/DTD/svg11.dtd\">\n<!-- Generated by graphviz version 2.43.0 (0)\n -->\n<!-- Title: structs Pages: 1 -->\n<svg width=\"842pt\" height=\"191pt\"\n viewBox=\"0.00 0.00 842.00 191.00\" xmlns=\"http://www.w3.org/2000/svg\" xmlns:xlink=\"http://www.w3.org/1999/xlink\">\n<g id=\"graph0\" class=\"graph\" transform=\"scale(1 1) rotate(0) translate(4 187)\">\n<title>structs</title>\n<polygon fill=\"white\" stroke=\"transparent\" points=\"-4,4 -4,-187 838,-187 838,4 -4,4\"/>\n<!-- run -->\n<g id=\"node1\" class=\"node\">\n<title>run</title>\n<polygon fill=\"none\" stroke=\"black\" points=\"301.5,-146.5 301.5,-182.5 474.5,-182.5 474.5,-146.5 301.5,-146.5\"/>\n<text text-anchor=\"middle\" x=\"346\" y=\"-160.8\" font-family=\"Times,serif\" font-size=\"14.00\">name: run</text>\n<polyline fill=\"none\" stroke=\"black\" points=\"390.5,-146.5 390.5,-182.5 \"/>\n<text text-anchor=\"middle\" x=\"432.5\" y=\"-160.8\" font-family=\"Times,serif\" font-size=\"14.00\">level: run</text>\n</g>\n<!-- subject -->\n<g id=\"node2\" class=\"node\">\n<title>subject</title>\n<polygon fill=\"none\" stroke=\"black\" points=\"274.5,-73.5 274.5,-109.5 501.5,-109.5 501.5,-73.5 274.5,-73.5\"/>\n<text text-anchor=\"middle\" x=\"332.5\" y=\"-87.8\" font-family=\"Times,serif\" font-size=\"14.00\">name: subject</text>\n<polyline fill=\"none\" stroke=\"black\" points=\"390.5,-73.5 390.5,-109.5 \"/>\n<text text-anchor=\"middle\" x=\"446\" y=\"-87.8\" font-family=\"Times,serif\" font-size=\"14.00\">level: subject</text>\n</g>\n<!-- run&#45;&gt;subject -->\n<g id=\"edge1\" class=\"edge\">\n<title>run&#45;&gt;subject</title>\n<path fill=\"none\" stroke=\"black\" d=\"M388,-146.31C388,-138.29 388,-128.55 388,-119.57\"/>\n<polygon fill=\"black\" stroke=\"black\" points=\"391.5,-119.53 388,-109.53 384.5,-119.53 391.5,-119.53\"/>\n</g>\n<!-- positive -->\n<g id=\"node3\" class=\"node\">\n<title>positive</title>\n<polygon fill=\"none\" stroke=\"black\" points=\"0,-0.5 0,-36.5 234,-36.5 234,-0.5 0,-0.5\"/>\n<text text-anchor=\"middle\" x=\"60.5\" y=\"-14.8\" font-family=\"Times,serif\" font-size=\"14.00\">name: positive</text>\n<polyline fill=\"none\" stroke=\"black\" points=\"121,-0.5 121,-36.5 \"/>\n<text text-anchor=\"middle\" x=\"177.5\" y=\"-14.8\" font-family=\"Times,serif\" font-size=\"14.00\">level: dataset</text>\n</g>\n<!-- subject&#45;&gt;positive -->\n<g id=\"edge2\" class=\"edge\">\n<title>subject&#45;&gt;positive</title>\n<path fill=\"none\" stroke=\"black\" d=\"M323.09,-73.49C283.66,-63.16 233.16,-49.93 192.02,-39.16\"/>\n<polygon fill=\"black\" stroke=\"black\" points=\"192.88,-35.76 182.32,-36.61 191.11,-42.53 192.88,-35.76\"/>\n</g>\n<!-- negative&#45;loss -->\n<g id=\"node4\" class=\"node\">\n<title>negative&#45;loss</title>\n<polygon fill=\"none\" stroke=\"black\" points=\"252.5,-0.5 252.5,-36.5 523.5,-36.5 523.5,-0.5 252.5,-0.5\"/>\n<text text-anchor=\"middle\" x=\"331.5\" y=\"-14.8\" font-family=\"Times,serif\" font-size=\"14.00\">name: negative&#45;loss</text>\n<polyline fill=\"none\" stroke=\"black\" points=\"410.5,-0.5 410.5,-36.5 \"/>\n<text text-anchor=\"middle\" x=\"467\" y=\"-14.8\" font-family=\"Times,serif\" font-size=\"14.00\">level: dataset</text>\n</g>\n<!-- subject&#45;&gt;negative&#45;loss -->\n<g id=\"edge3\" class=\"edge\">\n<title>subject&#45;&gt;negative&#45;loss</title>\n<path fill=\"none\" stroke=\"black\" d=\"M388,-73.31C388,-65.29 388,-55.55 388,-46.57\"/>\n<polygon fill=\"black\" stroke=\"black\" points=\"391.5,-46.53 388,-36.53 384.5,-46.53 391.5,-46.53\"/>\n</g>\n<!-- between&#45;groups -->\n<g id=\"node5\" class=\"node\">\n<title>between&#45;groups</title>\n<polygon fill=\"none\" stroke=\"black\" points=\"542,-0.5 542,-36.5 834,-36.5 834,-0.5 542,-0.5\"/>\n<text text-anchor=\"middle\" x=\"631.5\" y=\"-14.8\" font-family=\"Times,serif\" font-size=\"14.00\">name: between&#45;groups</text>\n<polyline fill=\"none\" stroke=\"black\" points=\"721,-0.5 721,-36.5 \"/>\n<text text-anchor=\"middle\" x=\"777.5\" y=\"-14.8\" font-family=\"Times,serif\" font-size=\"14.00\">level: dataset</text>\n</g>\n<!-- subject&#45;&gt;between&#45;groups -->\n<g id=\"edge4\" class=\"edge\">\n<title>subject&#45;&gt;between&#45;groups</title>\n<path fill=\"none\" stroke=\"black\" d=\"M459.86,-73.49C503.86,-63.08 560.32,-49.72 606.06,-38.89\"/>\n<polygon fill=\"black\" stroke=\"black\" points=\"607.02,-42.26 615.95,-36.55 605.41,-35.45 607.02,-42.26\"/>\n</g>\n</g>\n</svg>\n",
      "text/plain": [
       "<graphviz.graphs.Digraph at 0x7faecb85e910>"
      ]
     },
     "execution_count": 5,
     "metadata": {},
     "output_type": "execute_result"
    }
   ],
   "source": [
    "graph.write_graph(format='svg')"
   ]
  },
  {
   "cell_type": "markdown",
   "id": "61e3bd9b",
   "metadata": {},
   "source": [
    "This graph specifices that a _run_ level model should be run on every subject / run combination, followed by a _subject_ level model, which combines the results of the _run_ level models.\n",
    "\n",
    "Finally, at the group level, we have three distinct models: a between-group comparison of the 'loss' contrast, and within-group one-sample t-tests for the 'loss' and 'positive' contrasts.\n",
    "\n",
    "We'll take a closer look later."
   ]
  },
  {
   "cell_type": "markdown",
   "id": "3c6e3257",
   "metadata": {},
   "source": [
    "### Populating the Graph\n",
    "\n",
    "In order to compute the precise design matrices for each level of the model, we need to populate the graph with the specific variables, and outputs from each `Node` to the next.\n",
    "\n",
    "First, we load the `BIDSVariableCollection` objects, for the entire graph:"
   ]
  },
  {
   "cell_type": "code",
   "execution_count": 6,
   "id": "aecd1f8a",
   "metadata": {},
   "outputs": [],
   "source": [
    "try:\n",
    "    graph.load_collections()\n",
    "except ValueError:\n",
    "    graph.load_collections(scan_length=453)  # TR = 1, nvols = 453; necessary if no BOLD data"
   ]
  },
  {
   "cell_type": "markdown",
   "id": "b784765b",
   "metadata": {},
   "source": [
    "We can look at the variables available to the root node of the Graph:"
   ]
  },
  {
   "cell_type": "code",
   "execution_count": 7,
   "id": "fc72114c",
   "metadata": {},
   "outputs": [
    {
     "data": {
      "text/plain": [
       "[<BIDSRunVariableCollection['RT', 'gain', 'loss', 'participant_response']>,\n",
       " <BIDSRunVariableCollection['RT', 'gain', 'loss', 'participant_response']>,\n",
       " <BIDSRunVariableCollection['RT', 'gain', 'loss', 'participant_response']>,\n",
       " <BIDSRunVariableCollection['RT', 'gain', 'loss', 'participant_response']>,\n",
       " <BIDSRunVariableCollection['RT', 'gain', 'loss', 'participant_response']>,\n",
       " <BIDSRunVariableCollection['RT', 'gain', 'loss', 'participant_response']>,\n",
       " <BIDSRunVariableCollection['RT', 'gain', 'loss', 'participant_response']>,\n",
       " <BIDSRunVariableCollection['RT', 'gain', 'loss', 'participant_response']>,\n",
       " <BIDSRunVariableCollection['RT', 'gain', 'loss', 'participant_response']>,\n",
       " <BIDSRunVariableCollection['RT', 'gain', 'loss', 'participant_response']>,\n",
       " <BIDSRunVariableCollection['RT', 'gain', 'loss', 'participant_response']>,\n",
       " <BIDSRunVariableCollection['RT', 'gain', 'loss', 'participant_response']>]"
      ]
     },
     "execution_count": 7,
     "metadata": {},
     "output_type": "execute_result"
    }
   ],
   "source": [
    "root_node = graph.root_node\n",
    "colls = root_node.get_collections()\n",
    "colls"
   ]
  },
  {
   "cell_type": "code",
   "execution_count": 8,
   "id": "6bff1c5b",
   "metadata": {},
   "outputs": [
    {
     "data": {
      "text/plain": [
       "['run', 'subject']"
      ]
     },
     "execution_count": 8,
     "metadata": {},
     "output_type": "execute_result"
    }
   ],
   "source": [
    "root_node.group_by"
   ]
  },
  {
   "cell_type": "markdown",
   "id": "750b99db",
   "metadata": {},
   "source": [
    "Note that there are multiple instances of the root node, one for each subject / run combination (the node's `group_by` is : `['run', 'subject']`). We can access the variables for a specific instance of the root node using `variables`:"
   ]
  },
  {
   "cell_type": "code",
   "execution_count": 9,
   "id": "c78187e2",
   "metadata": {},
   "outputs": [
    {
     "data": {
      "text/plain": [
       "{'gain': <SparseRunVariable(name='gain', source='events')>,\n",
       " 'loss': <SparseRunVariable(name='loss', source='events')>,\n",
       " 'RT': <SparseRunVariable(name='RT', source='events')>,\n",
       " 'participant_response': <SparseRunVariable(name='participant_response', source='events')>}"
      ]
     },
     "execution_count": 9,
     "metadata": {},
     "output_type": "execute_result"
    }
   ],
   "source": [
    "colls[0].variables"
   ]
  },
  {
   "cell_type": "markdown",
   "id": "4f613895",
   "metadata": {},
   "source": [
    "## Running nodes\n",
    "Although the graph has defined how `Nodes` and `Edges` are related, it has not yet defined the specific design matrices for each, as this requires knowing the specific variables associated with each `Node`. We can now run the graph to populate the design matrices for each `Node`:"
   ]
  },
  {
   "cell_type": "code",
   "execution_count": 10,
   "id": "6d11ebe6",
   "metadata": {},
   "outputs": [
    {
     "name": "stderr",
     "output_type": "stream",
     "text": [
      "/home/zorro/repos/pybids/bids/modeling/statsmodels.py:731: UserWarning: Use 'Contrasts' not 'Conditions' or 'ConditionList' to specifyDummyContrasts. Renaming to 'Contrasts' for now.\n",
      "  warnings.warn(\n"
     ]
    }
   ],
   "source": [
    "specs = root_node.run(group_by=root_node.group_by, force_dense=False)"
   ]
  },
  {
   "cell_type": "markdown",
   "id": "454e12ac",
   "metadata": {},
   "source": [
    "For each instance of the root node, a `BIDSStatsModelsNodeOutput` object is created, which contains the model specification, and final design matrix for each:"
   ]
  },
  {
   "cell_type": "code",
   "execution_count": 11,
   "id": "b95e0ff1",
   "metadata": {},
   "outputs": [
    {
     "data": {
      "text/plain": [
       "[<BIDSStatsModelsNodeOutput(level=run, entities={'run': 1, 'subject': '001'})>,\n",
       " <BIDSStatsModelsNodeOutput(level=run, entities={'run': 2, 'subject': '001'})>,\n",
       " <BIDSStatsModelsNodeOutput(level=run, entities={'run': 3, 'subject': '001'})>,\n",
       " <BIDSStatsModelsNodeOutput(level=run, entities={'run': 4, 'subject': '001'})>,\n",
       " <BIDSStatsModelsNodeOutput(level=run, entities={'run': 1, 'subject': '002'})>,\n",
       " <BIDSStatsModelsNodeOutput(level=run, entities={'run': 2, 'subject': '002'})>,\n",
       " <BIDSStatsModelsNodeOutput(level=run, entities={'run': 3, 'subject': '002'})>,\n",
       " <BIDSStatsModelsNodeOutput(level=run, entities={'run': 4, 'subject': '002'})>,\n",
       " <BIDSStatsModelsNodeOutput(level=run, entities={'run': 1, 'subject': '003'})>,\n",
       " <BIDSStatsModelsNodeOutput(level=run, entities={'run': 2, 'subject': '003'})>,\n",
       " <BIDSStatsModelsNodeOutput(level=run, entities={'run': 3, 'subject': '003'})>,\n",
       " <BIDSStatsModelsNodeOutput(level=run, entities={'run': 4, 'subject': '003'})>]"
      ]
     },
     "execution_count": 11,
     "metadata": {},
     "output_type": "execute_result"
    }
   ],
   "source": [
    "specs"
   ]
  },
  {
   "cell_type": "code",
   "execution_count": 12,
   "id": "83aeaa75",
   "metadata": {},
   "outputs": [],
   "source": [
    "first_run = specs[0]"
   ]
  },
  {
   "cell_type": "markdown",
   "id": "04ee0d90",
   "metadata": {},
   "source": [
    "For each, we can access key aspects of the model specification:"
   ]
  },
  {
   "cell_type": "code",
   "execution_count": 13,
   "id": "0a3f3c7d",
   "metadata": {},
   "outputs": [
    {
     "data": {
      "text/plain": [
       "{'run': 1, 'subject': '001'}"
      ]
     },
     "execution_count": 13,
     "metadata": {},
     "output_type": "execute_result"
    }
   ],
   "source": [
    "first_run.entities"
   ]
  },
  {
   "cell_type": "code",
   "execution_count": 14,
   "id": "bf9267f2",
   "metadata": {},
   "outputs": [
    {
     "data": {
      "text/html": [
       "<div>\n",
       "<style scoped>\n",
       "    .dataframe tbody tr th:only-of-type {\n",
       "        vertical-align: middle;\n",
       "    }\n",
       "\n",
       "    .dataframe tbody tr th {\n",
       "        vertical-align: top;\n",
       "    }\n",
       "\n",
       "    .dataframe thead th {\n",
       "        text-align: right;\n",
       "    }\n",
       "</style>\n",
       "<table border=\"1\" class=\"dataframe\">\n",
       "  <thead>\n",
       "    <tr style=\"text-align: right;\">\n",
       "      <th></th>\n",
       "      <th>trials</th>\n",
       "      <th>gain</th>\n",
       "      <th>loss</th>\n",
       "      <th>demeaned_RT</th>\n",
       "      <th>intercept</th>\n",
       "    </tr>\n",
       "  </thead>\n",
       "  <tbody>\n",
       "    <tr>\n",
       "      <th>0</th>\n",
       "      <td>0.000002</td>\n",
       "      <td>-0.000020</td>\n",
       "      <td>-0.000011</td>\n",
       "      <td>7.939675e-07</td>\n",
       "      <td>1.0</td>\n",
       "    </tr>\n",
       "    <tr>\n",
       "      <th>1</th>\n",
       "      <td>-0.000005</td>\n",
       "      <td>0.000056</td>\n",
       "      <td>0.000032</td>\n",
       "      <td>-2.276861e-06</td>\n",
       "      <td>1.0</td>\n",
       "    </tr>\n",
       "    <tr>\n",
       "      <th>2</th>\n",
       "      <td>0.000014</td>\n",
       "      <td>-0.000159</td>\n",
       "      <td>-0.000091</td>\n",
       "      <td>6.446336e-06</td>\n",
       "      <td>1.0</td>\n",
       "    </tr>\n",
       "    <tr>\n",
       "      <th>3</th>\n",
       "      <td>-0.000037</td>\n",
       "      <td>0.000408</td>\n",
       "      <td>0.000235</td>\n",
       "      <td>-1.654103e-05</td>\n",
       "      <td>1.0</td>\n",
       "    </tr>\n",
       "    <tr>\n",
       "      <th>4</th>\n",
       "      <td>0.000073</td>\n",
       "      <td>-0.000812</td>\n",
       "      <td>-0.000468</td>\n",
       "      <td>3.296583e-05</td>\n",
       "      <td>1.0</td>\n",
       "    </tr>\n",
       "    <tr>\n",
       "      <th>...</th>\n",
       "      <td>...</td>\n",
       "      <td>...</td>\n",
       "      <td>...</td>\n",
       "      <td>...</td>\n",
       "      <td>...</td>\n",
       "    </tr>\n",
       "    <tr>\n",
       "      <th>448</th>\n",
       "      <td>0.729063</td>\n",
       "      <td>8.015666</td>\n",
       "      <td>5.652929</td>\n",
       "      <td>-2.061146e-01</td>\n",
       "      <td>1.0</td>\n",
       "    </tr>\n",
       "    <tr>\n",
       "      <th>449</th>\n",
       "      <td>0.576339</td>\n",
       "      <td>7.628444</td>\n",
       "      <td>4.549625</td>\n",
       "      <td>-1.434993e-01</td>\n",
       "      <td>1.0</td>\n",
       "    </tr>\n",
       "    <tr>\n",
       "      <th>450</th>\n",
       "      <td>0.397427</td>\n",
       "      <td>6.338474</td>\n",
       "      <td>3.218710</td>\n",
       "      <td>-8.201623e-02</td>\n",
       "      <td>1.0</td>\n",
       "    </tr>\n",
       "    <tr>\n",
       "      <th>451</th>\n",
       "      <td>0.237071</td>\n",
       "      <td>4.844265</td>\n",
       "      <td>2.008481</td>\n",
       "      <td>-3.181046e-02</td>\n",
       "      <td>1.0</td>\n",
       "    </tr>\n",
       "    <tr>\n",
       "      <th>452</th>\n",
       "      <td>0.097324</td>\n",
       "      <td>3.315304</td>\n",
       "      <td>0.939883</td>\n",
       "      <td>8.506043e-03</td>\n",
       "      <td>1.0</td>\n",
       "    </tr>\n",
       "  </tbody>\n",
       "</table>\n",
       "<p>453 rows × 5 columns</p>\n",
       "</div>"
      ],
      "text/plain": [
       "       trials      gain      loss   demeaned_RT  intercept\n",
       "0    0.000002 -0.000020 -0.000011  7.939675e-07        1.0\n",
       "1   -0.000005  0.000056  0.000032 -2.276861e-06        1.0\n",
       "2    0.000014 -0.000159 -0.000091  6.446336e-06        1.0\n",
       "3   -0.000037  0.000408  0.000235 -1.654103e-05        1.0\n",
       "4    0.000073 -0.000812 -0.000468  3.296583e-05        1.0\n",
       "..        ...       ...       ...           ...        ...\n",
       "448  0.729063  8.015666  5.652929 -2.061146e-01        1.0\n",
       "449  0.576339  7.628444  4.549625 -1.434993e-01        1.0\n",
       "450  0.397427  6.338474  3.218710 -8.201623e-02        1.0\n",
       "451  0.237071  4.844265  2.008481 -3.181046e-02        1.0\n",
       "452  0.097324  3.315304  0.939883  8.506043e-03        1.0\n",
       "\n",
       "[453 rows x 5 columns]"
      ]
     },
     "execution_count": 14,
     "metadata": {},
     "output_type": "execute_result"
    }
   ],
   "source": [
    "# Final design matrix\n",
    "first_run.X"
   ]
  },
  {
   "cell_type": "code",
   "execution_count": 15,
   "id": "c7d639dd",
   "metadata": {},
   "outputs": [
    {
     "data": {
      "text/plain": [
       "<AxesSubplot:label='conditions', ylabel='scan number'>"
      ]
     },
     "execution_count": 15,
     "metadata": {},
     "output_type": "execute_result"
    },
    {
     "data": {
      "image/png": "[encoded data removed]",
      "text/plain": [
       "<Figure size 154.8x720 with 1 Axes>"
      ]
     },
     "metadata": {
      "needs_background": "light"
     },
     "output_type": "display_data"
    }
   ],
   "source": [
    "# Plot design matrix\n",
    "plot_design_matrix(specs[0].X)"
   ]
  },
  {
   "cell_type": "markdown",
   "id": "3009fb45",
   "metadata": {},
   "source": [
    "Finally, these are the contrasts for the root node:\n",
    "\n",
    "The contrasts specify the outputs of the `Node` that will be passed to subsequent Nodes"
   ]
  },
  {
   "cell_type": "code",
   "execution_count": 16,
   "id": "502d6c12",
   "metadata": {},
   "outputs": [
    {
     "data": {
      "text/plain": [
       "[ContrastInfo(name='loss', conditions=['loss'], weights=[1], test='t', entities={'run': 1, 'subject': '001', 'contrast': 'loss'}),\n",
       " ContrastInfo(name='trials', conditions=['trials'], weights=[1], test='t', entities={'run': 1, 'subject': '001', 'contrast': 'trials'}),\n",
       " ContrastInfo(name='gain', conditions=['gain'], weights=[1], test='t', entities={'run': 1, 'subject': '001', 'contrast': 'gain'})]"
      ]
     },
     "execution_count": 16,
     "metadata": {},
     "output_type": "execute_result"
    }
   ],
   "source": [
    "# Contrast specification\n",
    "first_run.contrasts"
   ]
  },
  {
   "cell_type": "markdown",
   "id": "434bce0d",
   "metadata": {},
   "source": [
    "### Subject-level model"
   ]
  },
  {
   "cell_type": "markdown",
   "id": "b1118eee",
   "metadata": {},
   "source": [
    "Now that we have populated the design matrices for the run-level root node `Node`, we can advance the graph to the next level, and repeat the process.\n",
    "\n",
    "Here, the subsequent `Node` is a `subject` level fixed-effects meta-analysis model, which comibines run estimates, separately for each combination of `contrast` and `subject`."
   ]
  },
  {
   "cell_type": "code",
   "execution_count": 17,
   "id": "8c9d9c06",
   "metadata": {},
   "outputs": [],
   "source": [
    "next_node = root_node.children[0].destination"
   ]
  },
  {
   "cell_type": "code",
   "execution_count": 18,
   "id": "80df8103",
   "metadata": {},
   "outputs": [
    {
     "data": {
      "text/plain": [
       "'subject'"
      ]
     },
     "execution_count": 18,
     "metadata": {},
     "output_type": "execute_result"
    }
   ],
   "source": [
    "next_node.level"
   ]
  },
  {
   "cell_type": "code",
   "execution_count": 19,
   "id": "744dbf20",
   "metadata": {},
   "outputs": [
    {
     "data": {
      "text/plain": [
       "['subject', 'contrast']"
      ]
     },
     "execution_count": 19,
     "metadata": {},
     "output_type": "execute_result"
    }
   ],
   "source": [
    "next_node.group_by"
   ]
  },
  {
   "cell_type": "markdown",
   "id": "c762d6e0",
   "metadata": {},
   "source": [
    "In order to populate the `subject` level node, we need to pass the outputs from the previous `run` level `Node` as inputs to the subsequent `Node`."
   ]
  },
  {
   "cell_type": "code",
   "execution_count": 20,
   "id": "0092651e",
   "metadata": {},
   "outputs": [],
   "source": [
    "contrasts = list(chain(*[s.contrasts for s in specs]))"
   ]
  },
  {
   "cell_type": "markdown",
   "id": "28f078a5",
   "metadata": {},
   "source": [
    "Since the `subject` level `Node` is `group_by` : `['subject', 'contrast']`, each combination of `subject` and `contrast` will have a separate `BIDSStatsModelsNodeOutput` object:"
   ]
  },
  {
   "cell_type": "code",
   "execution_count": 21,
   "id": "66bc90c6",
   "metadata": {},
   "outputs": [
    {
     "data": {
      "text/plain": [
       "[<BIDSStatsModelsNodeOutput(level=subject, entities={'contrast': 'loss', 'subject': '001'})>,\n",
       " <BIDSStatsModelsNodeOutput(level=subject, entities={'contrast': 'trials', 'subject': '001'})>,\n",
       " <BIDSStatsModelsNodeOutput(level=subject, entities={'contrast': 'gain', 'subject': '001'})>,\n",
       " <BIDSStatsModelsNodeOutput(level=subject, entities={'contrast': 'loss', 'subject': '002'})>,\n",
       " <BIDSStatsModelsNodeOutput(level=subject, entities={'contrast': 'trials', 'subject': '002'})>,\n",
       " <BIDSStatsModelsNodeOutput(level=subject, entities={'contrast': 'gain', 'subject': '002'})>,\n",
       " <BIDSStatsModelsNodeOutput(level=subject, entities={'contrast': 'loss', 'subject': '003'})>,\n",
       " <BIDSStatsModelsNodeOutput(level=subject, entities={'contrast': 'trials', 'subject': '003'})>,\n",
       " <BIDSStatsModelsNodeOutput(level=subject, entities={'contrast': 'gain', 'subject': '003'})>]"
      ]
     },
     "execution_count": 21,
     "metadata": {},
     "output_type": "execute_result"
    }
   ],
   "source": [
    "sub_specs = next_node.run(contrasts)\n",
    "sub_specs"
   ]
  },
  {
   "cell_type": "markdown",
   "id": "879ae982",
   "metadata": {},
   "source": [
    "Taking a look at a single Nodes's specification, the design matrix (`X`) is:"
   ]
  },
  {
   "cell_type": "code",
   "execution_count": 22,
   "id": "8ce0b8ff",
   "metadata": {},
   "outputs": [
    {
     "data": {
      "text/html": [
       "<div>\n",
       "<style scoped>\n",
       "    .dataframe tbody tr th:only-of-type {\n",
       "        vertical-align: middle;\n",
       "    }\n",
       "\n",
       "    .dataframe tbody tr th {\n",
       "        vertical-align: top;\n",
       "    }\n",
       "\n",
       "    .dataframe thead th {\n",
       "        text-align: right;\n",
       "    }\n",
       "</style>\n",
       "<table border=\"1\" class=\"dataframe\">\n",
       "  <thead>\n",
       "    <tr style=\"text-align: right;\">\n",
       "      <th></th>\n",
       "      <th>intercept</th>\n",
       "    </tr>\n",
       "  </thead>\n",
       "  <tbody>\n",
       "    <tr>\n",
       "      <th>0</th>\n",
       "      <td>1</td>\n",
       "    </tr>\n",
       "    <tr>\n",
       "      <th>1</th>\n",
       "      <td>1</td>\n",
       "    </tr>\n",
       "    <tr>\n",
       "      <th>2</th>\n",
       "      <td>1</td>\n",
       "    </tr>\n",
       "    <tr>\n",
       "      <th>3</th>\n",
       "      <td>1</td>\n",
       "    </tr>\n",
       "  </tbody>\n",
       "</table>\n",
       "</div>"
      ],
      "text/plain": [
       "   intercept\n",
       "0          1\n",
       "1          1\n",
       "2          1\n",
       "3          1"
      ]
     },
     "execution_count": 22,
     "metadata": {},
     "output_type": "execute_result"
    }
   ],
   "source": [
    "sub_specs[3].X"
   ]
  },
  {
   "cell_type": "markdown",
   "id": "9d6adfa3",
   "metadata": {},
   "source": [
    "In this case, we are applying a simple intercept model which is equivalent to a one-sample t-test.\n",
    "\n",
    "To understand which inputs are associated with this design, we can look at the `metadata` attribute:"
   ]
  },
  {
   "cell_type": "code",
   "execution_count": 23,
   "id": "d6d7b578",
   "metadata": {},
   "outputs": [
    {
     "data": {
      "text/html": [
       "<div>\n",
       "<style scoped>\n",
       "    .dataframe tbody tr th:only-of-type {\n",
       "        vertical-align: middle;\n",
       "    }\n",
       "\n",
       "    .dataframe tbody tr th {\n",
       "        vertical-align: top;\n",
       "    }\n",
       "\n",
       "    .dataframe thead th {\n",
       "        text-align: right;\n",
       "    }\n",
       "</style>\n",
       "<table border=\"1\" class=\"dataframe\">\n",
       "  <thead>\n",
       "    <tr style=\"text-align: right;\">\n",
       "      <th></th>\n",
       "      <th>contrast</th>\n",
       "      <th>run</th>\n",
       "      <th>subject</th>\n",
       "    </tr>\n",
       "  </thead>\n",
       "  <tbody>\n",
       "    <tr>\n",
       "      <th>0</th>\n",
       "      <td>loss</td>\n",
       "      <td>1</td>\n",
       "      <td>002</td>\n",
       "    </tr>\n",
       "    <tr>\n",
       "      <th>1</th>\n",
       "      <td>loss</td>\n",
       "      <td>2</td>\n",
       "      <td>002</td>\n",
       "    </tr>\n",
       "    <tr>\n",
       "      <th>2</th>\n",
       "      <td>loss</td>\n",
       "      <td>3</td>\n",
       "      <td>002</td>\n",
       "    </tr>\n",
       "    <tr>\n",
       "      <th>3</th>\n",
       "      <td>loss</td>\n",
       "      <td>4</td>\n",
       "      <td>002</td>\n",
       "    </tr>\n",
       "  </tbody>\n",
       "</table>\n",
       "</div>"
      ],
      "text/plain": [
       "  contrast  run subject\n",
       "0     loss    1     002\n",
       "1     loss    2     002\n",
       "2     loss    3     002\n",
       "3     loss    4     002"
      ]
     },
     "execution_count": 23,
     "metadata": {},
     "output_type": "execute_result"
    }
   ],
   "source": [
    "sub_specs[3].metadata"
   ]
  },
  {
   "cell_type": "markdown",
   "id": "229bd122",
   "metadata": {},
   "source": [
    "Finally the contrast for this `Node` simply passes forward the intercept:"
   ]
  },
  {
   "cell_type": "code",
   "execution_count": 24,
   "id": "d95f16b4",
   "metadata": {},
   "outputs": [
    {
     "data": {
      "text/plain": [
       "[ContrastInfo(name='loss', conditions=['intercept'], weights=[1], test='t', entities={'contrast': 'loss', 'subject': '002'})]"
      ]
     },
     "execution_count": 24,
     "metadata": {},
     "output_type": "execute_result"
    }
   ],
   "source": [
    "sub_specs[3].contrasts"
   ]
  },
  {
   "cell_type": "markdown",
   "id": "e757713a",
   "metadata": {},
   "source": [
    "### Group-level Nodes\n",
    "\n",
    "Remember that the group-level of this model, we defined three separate `Nodes`, each performing a different analysis.\n",
    "\n",
    "- \"positive\" is a within-group one-sample t-test of all contrasts.\n",
    "\n",
    "- \"negative-loss\" is a within-group one-sample t-test for the 'loss' contrast, but reversed such that the positive direction is negative.\n",
    "\n",
    "- \"between-groups\" is a between-group comparison of the 'loss' contrast.\n",
    "\n",
    "Let's take a look at each separately:"
   ]
  },
  {
   "cell_type": "markdown",
   "id": "1fed75b3",
   "metadata": {},
   "source": [
    "#### \"Positive\" Node (Within-Groups)"
   ]
  },
  {
   "cell_type": "markdown",
   "id": "bf93a59f",
   "metadata": {},
   "source": [
    "Let's look at the original definition of this `Node` and the corresponding `Edge` in the original JSON specification:"
   ]
  },
  {
   "cell_type": "code",
   "execution_count": 25,
   "id": "7fca6c2b",
   "metadata": {},
   "outputs": [
    {
     "data": {
      "text/plain": [
       "{'Level': 'Dataset',\n",
       " 'Name': 'negative-loss',\n",
       " 'GroupBy': ['contrast', 'group'],\n",
       " 'Model': {'X': [1]},\n",
       " 'Contrasts': [{'Name': 'negative',\n",
       "   'ConditionList': [1],\n",
       "   'Weights': [-1],\n",
       "   'Test': 't'}]}"
      ]
     },
     "execution_count": 25,
     "metadata": {},
     "output_type": "execute_result"
    }
   ],
   "source": [
    "spec['Nodes'][3]"
   ]
  },
  {
   "cell_type": "code",
   "execution_count": 26,
   "id": "81113a98",
   "metadata": {},
   "outputs": [
    {
     "data": {
      "text/plain": [
       "{'Source': 'subject', 'Destination': 'positive'}"
      ]
     },
     "execution_count": 26,
     "metadata": {},
     "output_type": "execute_result"
    }
   ],
   "source": [
    "spec['Edges'][1]"
   ]
  },
  {
   "cell_type": "markdown",
   "id": "4268e8a6",
   "metadata": {},
   "source": [
    "This `Node` specifies to run a separate one-sample t-test for each contrast, for each group separately (`'GroupBy': ['contrast', 'group']`)"
   ]
  },
  {
   "cell_type": "code",
   "execution_count": 27,
   "id": "4d8700ce",
   "metadata": {},
   "outputs": [],
   "source": [
    "# Prepare subject-level Node output contrasts\n",
    "sub_contrasts = list(chain(*[s.contrasts for s in sub_specs]))\n",
    "\n",
    "# Run \"positive\" Node\n",
    "ds0_node = next_node.children[0].destination \n",
    "ds0_specs = ds0_node.run(sub_contrasts)"
   ]
  },
  {
   "cell_type": "markdown",
   "id": "5e5470ca",
   "metadata": {},
   "source": [
    "There are unique `BIDSStatsModelsNodeOutput` objects (and thus, models) for each contrast / group combiation:"
   ]
  },
  {
   "cell_type": "code",
   "execution_count": 28,
   "id": "6591023e",
   "metadata": {},
   "outputs": [
    {
     "data": {
      "text/plain": [
       "[<BIDSStatsModelsNodeOutput(level=positive, entities={'contrast': 'loss', 'group': 'equalIndifference'})>,\n",
       " <BIDSStatsModelsNodeOutput(level=positive, entities={'contrast': 'trials', 'group': 'equalIndifference'})>,\n",
       " <BIDSStatsModelsNodeOutput(level=positive, entities={'contrast': 'gain', 'group': 'equalIndifference'})>,\n",
       " <BIDSStatsModelsNodeOutput(level=positive, entities={'contrast': 'loss', 'group': 'equalRange'})>,\n",
       " <BIDSStatsModelsNodeOutput(level=positive, entities={'contrast': 'trials', 'group': 'equalRange'})>,\n",
       " <BIDSStatsModelsNodeOutput(level=positive, entities={'contrast': 'gain', 'group': 'equalRange'})>]"
      ]
     },
     "execution_count": 28,
     "metadata": {},
     "output_type": "execute_result"
    }
   ],
   "source": [
    "ds0_specs"
   ]
  },
  {
   "cell_type": "markdown",
   "id": "9027fa91",
   "metadata": {},
   "source": [
    "Taking a look at this first, we can see the model is a simple intercept model, which is equivalent to a one-sample t-test:"
   ]
  },
  {
   "cell_type": "code",
   "execution_count": 29,
   "id": "63b12f0d",
   "metadata": {},
   "outputs": [
    {
     "data": {
      "text/html": [
       "<div>\n",
       "<style scoped>\n",
       "    .dataframe tbody tr th:only-of-type {\n",
       "        vertical-align: middle;\n",
       "    }\n",
       "\n",
       "    .dataframe tbody tr th {\n",
       "        vertical-align: top;\n",
       "    }\n",
       "\n",
       "    .dataframe thead th {\n",
       "        text-align: right;\n",
       "    }\n",
       "</style>\n",
       "<table border=\"1\" class=\"dataframe\">\n",
       "  <thead>\n",
       "    <tr style=\"text-align: right;\">\n",
       "      <th></th>\n",
       "      <th>intercept</th>\n",
       "    </tr>\n",
       "  </thead>\n",
       "  <tbody>\n",
       "    <tr>\n",
       "      <th>0</th>\n",
       "      <td>1</td>\n",
       "    </tr>\n",
       "    <tr>\n",
       "      <th>1</th>\n",
       "      <td>1</td>\n",
       "    </tr>\n",
       "  </tbody>\n",
       "</table>\n",
       "</div>"
      ],
      "text/plain": [
       "   intercept\n",
       "0          1\n",
       "1          1"
      ]
     },
     "execution_count": 29,
     "metadata": {},
     "output_type": "execute_result"
    }
   ],
   "source": [
    "ds0_specs[0].X"
   ]
  },
  {
   "cell_type": "markdown",
   "id": "e3b4a176",
   "metadata": {},
   "source": [
    "With the following inputs:"
   ]
  },
  {
   "cell_type": "code",
   "execution_count": 30,
   "id": "de6029d1",
   "metadata": {},
   "outputs": [
    {
     "data": {
      "text/html": [
       "<div>\n",
       "<style scoped>\n",
       "    .dataframe tbody tr th:only-of-type {\n",
       "        vertical-align: middle;\n",
       "    }\n",
       "\n",
       "    .dataframe tbody tr th {\n",
       "        vertical-align: top;\n",
       "    }\n",
       "\n",
       "    .dataframe thead th {\n",
       "        text-align: right;\n",
       "    }\n",
       "</style>\n",
       "<table border=\"1\" class=\"dataframe\">\n",
       "  <thead>\n",
       "    <tr style=\"text-align: right;\">\n",
       "      <th></th>\n",
       "      <th>contrast</th>\n",
       "      <th>subject</th>\n",
       "    </tr>\n",
       "  </thead>\n",
       "  <tbody>\n",
       "    <tr>\n",
       "      <th>0</th>\n",
       "      <td>loss</td>\n",
       "      <td>001</td>\n",
       "    </tr>\n",
       "    <tr>\n",
       "      <th>1</th>\n",
       "      <td>loss</td>\n",
       "      <td>003</td>\n",
       "    </tr>\n",
       "  </tbody>\n",
       "</table>\n",
       "</div>"
      ],
      "text/plain": [
       "  contrast subject\n",
       "0     loss     001\n",
       "1     loss     003"
      ]
     },
     "execution_count": 30,
     "metadata": {},
     "output_type": "execute_result"
    }
   ],
   "source": [
    "ds0_specs[0].metadata"
   ]
  },
  {
   "cell_type": "markdown",
   "id": "29354954",
   "metadata": {},
   "source": [
    "#### \"Negative-Loss\" Node (Within-Groups)"
   ]
  },
  {
   "cell_type": "markdown",
   "id": "50600d02",
   "metadata": {},
   "source": [
    "Next, the \"negative-loss\" Node takes _only_ the 'loss' contrast, and reverses the sign of the positive direction, such that the positive direction is negative.\n",
    "\n",
    "In the `Contrast` section of the model, we specify the weight as -1 to flip the sign."
   ]
  },
  {
   "cell_type": "code",
   "execution_count": 31,
   "id": "e6b36a7b",
   "metadata": {},
   "outputs": [
    {
     "data": {
      "text/plain": [
       "{'Level': 'Dataset',\n",
       " 'Name': 'between-groups',\n",
       " 'GroupBy': ['contrast'],\n",
       " 'Model': {'X': [1, 'group'], 'Formula': '0 + C(group)'},\n",
       " 'Contrasts': [{'Name': 'range_vs_indiference',\n",
       "   'ConditionList': ['C(group)[T.equalRange]',\n",
       "    'C(group)[T.equalIndifference]'],\n",
       "   'Weights': [1, -1],\n",
       "   'Test': 't'}]}"
      ]
     },
     "execution_count": 31,
     "metadata": {},
     "output_type": "execute_result"
    }
   ],
   "source": [
    "# Negative-loss node specification\n",
    "spec['Nodes'][4]"
   ]
  },
  {
   "cell_type": "markdown",
   "id": "26ebee4e",
   "metadata": {},
   "source": [
    "The corresponding `Edge` specifies to `Filter` the input to only include the 'loss' contrast:"
   ]
  },
  {
   "cell_type": "code",
   "execution_count": 32,
   "id": "49d901c6",
   "metadata": {},
   "outputs": [
    {
     "data": {
      "text/plain": [
       "{'Source': 'subject',\n",
       " 'Destination': 'between-groups',\n",
       " 'Filter': {'contrast': ['loss']}}"
      ]
     },
     "execution_count": 32,
     "metadata": {},
     "output_type": "execute_result"
    }
   ],
   "source": [
    "spec['Edges'][3]"
   ]
  },
  {
   "cell_type": "code",
   "execution_count": 33,
   "id": "65c06c21",
   "metadata": {},
   "outputs": [],
   "source": [
    "ds1_node = next_node.children[1].destination\n",
    "ds1_specs = ds1_node.run(sub_contrasts,**next_node.children[1].filter)"
   ]
  },
  {
   "cell_type": "markdown",
   "id": "d166e473",
   "metadata": {},
   "source": [
    "The design matrix for the group-level node peforms a simple one-sample t-test on the subject-level contrasts:"
   ]
  },
  {
   "cell_type": "code",
   "execution_count": 34,
   "id": "ebc5d085",
   "metadata": {},
   "outputs": [
    {
     "data": {
      "text/html": [
       "<div>\n",
       "<style scoped>\n",
       "    .dataframe tbody tr th:only-of-type {\n",
       "        vertical-align: middle;\n",
       "    }\n",
       "\n",
       "    .dataframe tbody tr th {\n",
       "        vertical-align: top;\n",
       "    }\n",
       "\n",
       "    .dataframe thead th {\n",
       "        text-align: right;\n",
       "    }\n",
       "</style>\n",
       "<table border=\"1\" class=\"dataframe\">\n",
       "  <thead>\n",
       "    <tr style=\"text-align: right;\">\n",
       "      <th></th>\n",
       "      <th>intercept</th>\n",
       "    </tr>\n",
       "  </thead>\n",
       "  <tbody>\n",
       "    <tr>\n",
       "      <th>0</th>\n",
       "      <td>1</td>\n",
       "    </tr>\n",
       "    <tr>\n",
       "      <th>1</th>\n",
       "      <td>1</td>\n",
       "    </tr>\n",
       "  </tbody>\n",
       "</table>\n",
       "</div>"
      ],
      "text/plain": [
       "   intercept\n",
       "0          1\n",
       "1          1"
      ]
     },
     "execution_count": 34,
     "metadata": {},
     "output_type": "execute_result"
    }
   ],
   "source": [
    "ds1_specs[0].X"
   ]
  },
  {
   "cell_type": "code",
   "execution_count": 35,
   "id": "c34672ee",
   "metadata": {},
   "outputs": [
    {
     "data": {
      "text/html": [
       "<div>\n",
       "<style scoped>\n",
       "    .dataframe tbody tr th:only-of-type {\n",
       "        vertical-align: middle;\n",
       "    }\n",
       "\n",
       "    .dataframe tbody tr th {\n",
       "        vertical-align: top;\n",
       "    }\n",
       "\n",
       "    .dataframe thead th {\n",
       "        text-align: right;\n",
       "    }\n",
       "</style>\n",
       "<table border=\"1\" class=\"dataframe\">\n",
       "  <thead>\n",
       "    <tr style=\"text-align: right;\">\n",
       "      <th></th>\n",
       "      <th>contrast</th>\n",
       "      <th>subject</th>\n",
       "    </tr>\n",
       "  </thead>\n",
       "  <tbody>\n",
       "    <tr>\n",
       "      <th>0</th>\n",
       "      <td>loss</td>\n",
       "      <td>001</td>\n",
       "    </tr>\n",
       "    <tr>\n",
       "      <th>1</th>\n",
       "      <td>loss</td>\n",
       "      <td>003</td>\n",
       "    </tr>\n",
       "  </tbody>\n",
       "</table>\n",
       "</div>"
      ],
      "text/plain": [
       "  contrast subject\n",
       "0     loss     001\n",
       "1     loss     003"
      ]
     },
     "execution_count": 35,
     "metadata": {},
     "output_type": "execute_result"
    }
   ],
   "source": [
    "ds1_specs[0].metadata"
   ]
  },
  {
   "cell_type": "markdown",
   "id": "5f756394",
   "metadata": {},
   "source": [
    "Finally, looking at the contrasts, we can see that the 'loss' contrast is passed forward, but with the positive direction flipped:"
   ]
  },
  {
   "cell_type": "code",
   "execution_count": 36,
   "id": "5b919579",
   "metadata": {},
   "outputs": [
    {
     "data": {
      "text/plain": [
       "[ContrastInfo(name='loss_negative', conditions=['intercept'], weights=[-1], test='t', entities={'contrast': 'loss_negative', 'group': 'equalIndifference'})]"
      ]
     },
     "execution_count": 36,
     "metadata": {},
     "output_type": "execute_result"
    }
   ],
   "source": [
    "ds1_specs[0].contrasts"
   ]
  },
  {
   "cell_type": "markdown",
   "id": "68ae56a5",
   "metadata": {},
   "source": [
    "### Between-Groups Node specification"
   ]
  },
  {
   "cell_type": "markdown",
   "id": "79ff82ec",
   "metadata": {},
   "source": [
    "Finally, the \"between-groups\" Node is a between-group comparison of the 'loss' contrast. \n",
    "\n",
    "Importantly, the `GroupBy` is set to `['contrast']`, such that the model is run separately for each contrast, but the contrasts are combined across groups."
   ]
  },
  {
   "cell_type": "code",
   "execution_count": 37,
   "id": "d435a135",
   "metadata": {},
   "outputs": [
    {
     "data": {
      "text/plain": [
       "{'Level': 'Dataset',\n",
       " 'Name': 'between-groups',\n",
       " 'GroupBy': ['contrast'],\n",
       " 'Model': {'X': [1, 'group'], 'Formula': '0 + C(group)'},\n",
       " 'Contrasts': [{'Name': 'range_vs_indiference',\n",
       "   'ConditionList': ['C(group)[T.equalRange]',\n",
       "    'C(group)[T.equalIndifference]'],\n",
       "   'Weights': [1, -1],\n",
       "   'Test': 't'}]}"
      ]
     },
     "execution_count": 37,
     "metadata": {},
     "output_type": "execute_result"
    }
   ],
   "source": [
    "spec['Nodes'][-1]"
   ]
  },
  {
   "cell_type": "markdown",
   "id": "4dca8bc0",
   "metadata": {},
   "source": [
    "In addition, this `Node` uses `Formula` notation to specify the model. The `C(group)` term specifies a categorical variable, which will be used to specify the between-group comparison.\n",
    "\n",
    "In the `Contrast` section, we can refer to specific levels of the categorical variable using the `C()` notation. Here, we specify a contrast of `C(group)[T.equalRange] - C(group)[T.equalIndifference]`, with weights `[1, -1]`."
   ]
  },
  {
   "cell_type": "markdown",
   "id": "4cca0587",
   "metadata": {},
   "source": [
    "As in the previous `Node`, the corresponding `Edge` specifies to `Filter` the input to only include the 'loss' contrast:"
   ]
  },
  {
   "cell_type": "code",
   "execution_count": 38,
   "id": "b45d0690",
   "metadata": {},
   "outputs": [
    {
     "data": {
      "text/plain": [
       "{'Source': 'subject',\n",
       " 'Destination': 'between-groups',\n",
       " 'Filter': {'contrast': ['loss']}}"
      ]
     },
     "execution_count": 38,
     "metadata": {},
     "output_type": "execute_result"
    }
   ],
   "source": [
    "spec['Edges'][3]"
   ]
  },
  {
   "cell_type": "code",
   "execution_count": 39,
   "id": "025f55fb",
   "metadata": {},
   "outputs": [
    {
     "name": "stdout",
     "output_type": "stream",
     "text": [
      "{'contrast': ['loss']}\n",
      "[<BIDSStatsModelsNodeOutput(level=between-groups, entities={'contrast': 'loss'})>]\n"
     ]
    }
   ],
   "source": [
    "# Running between-subject Node\n",
    "ds2_node = next_node.children[2].destination \n",
    "filters = next_node.children[2].filter or {}\n",
    "print(filters)\n",
    "ds2_specs = ds2_node.run(sub_contrasts, **filters)\n",
    "print(ds2_specs)"
   ]
  },
  {
   "cell_type": "markdown",
   "id": "909a0808",
   "metadata": {},
   "source": [
    "The design matrix (`X`) for this `Node` contrasts subjects 1 and 3 vs 2, as these subjects differ by `group`:"
   ]
  },
  {
   "cell_type": "code",
   "execution_count": 40,
   "id": "01e1fb4b",
   "metadata": {},
   "outputs": [
    {
     "data": {
      "text/html": [
       "<div>\n",
       "<style scoped>\n",
       "    .dataframe tbody tr th:only-of-type {\n",
       "        vertical-align: middle;\n",
       "    }\n",
       "\n",
       "    .dataframe tbody tr th {\n",
       "        vertical-align: top;\n",
       "    }\n",
       "\n",
       "    .dataframe thead th {\n",
       "        text-align: right;\n",
       "    }\n",
       "</style>\n",
       "<table border=\"1\" class=\"dataframe\">\n",
       "  <thead>\n",
       "    <tr style=\"text-align: right;\">\n",
       "      <th></th>\n",
       "      <th>C(group)[T.equalIndifference]</th>\n",
       "      <th>C(group)[T.equalRange]</th>\n",
       "    </tr>\n",
       "  </thead>\n",
       "  <tbody>\n",
       "    <tr>\n",
       "      <th>0</th>\n",
       "      <td>1</td>\n",
       "      <td>0</td>\n",
       "    </tr>\n",
       "    <tr>\n",
       "      <th>1</th>\n",
       "      <td>0</td>\n",
       "      <td>1</td>\n",
       "    </tr>\n",
       "    <tr>\n",
       "      <th>2</th>\n",
       "      <td>1</td>\n",
       "      <td>0</td>\n",
       "    </tr>\n",
       "  </tbody>\n",
       "</table>\n",
       "</div>"
      ],
      "text/plain": [
       "   C(group)[T.equalIndifference]  C(group)[T.equalRange]\n",
       "0                              1                       0\n",
       "1                              0                       1\n",
       "2                              1                       0"
      ]
     },
     "execution_count": 40,
     "metadata": {},
     "output_type": "execute_result"
    }
   ],
   "source": [
    "ds2_specs[0].X"
   ]
  },
  {
   "cell_type": "code",
   "execution_count": 41,
   "id": "cd701099",
   "metadata": {},
   "outputs": [
    {
     "data": {
      "text/html": [
       "<div>\n",
       "<style scoped>\n",
       "    .dataframe tbody tr th:only-of-type {\n",
       "        vertical-align: middle;\n",
       "    }\n",
       "\n",
       "    .dataframe tbody tr th {\n",
       "        vertical-align: top;\n",
       "    }\n",
       "\n",
       "    .dataframe thead th {\n",
       "        text-align: right;\n",
       "    }\n",
       "</style>\n",
       "<table border=\"1\" class=\"dataframe\">\n",
       "  <thead>\n",
       "    <tr style=\"text-align: right;\">\n",
       "      <th></th>\n",
       "      <th>contrast</th>\n",
       "      <th>subject</th>\n",
       "      <th>suffix</th>\n",
       "    </tr>\n",
       "  </thead>\n",
       "  <tbody>\n",
       "    <tr>\n",
       "      <th>0</th>\n",
       "      <td>loss</td>\n",
       "      <td>001</td>\n",
       "      <td>participants</td>\n",
       "    </tr>\n",
       "    <tr>\n",
       "      <th>1</th>\n",
       "      <td>loss</td>\n",
       "      <td>002</td>\n",
       "      <td>participants</td>\n",
       "    </tr>\n",
       "    <tr>\n",
       "      <th>2</th>\n",
       "      <td>loss</td>\n",
       "      <td>003</td>\n",
       "      <td>participants</td>\n",
       "    </tr>\n",
       "  </tbody>\n",
       "</table>\n",
       "</div>"
      ],
      "text/plain": [
       "  contrast subject        suffix\n",
       "0     loss     001  participants\n",
       "1     loss     002  participants\n",
       "2     loss     003  participants"
      ]
     },
     "execution_count": 41,
     "metadata": {},
     "output_type": "execute_result"
    }
   ],
   "source": [
    "ds2_specs[0].metadata"
   ]
  }
 ],
 "metadata": {
  "jupytext": {
   "formats": "ipynb,md:myst"
  },
  "kernelspec": {
   "display_name": "Python 3.9.7 ('base')",
   "language": "python",
   "name": "python3"
  },
  "language_info": {
   "codemirror_mode": {
    "name": "ipython",
    "version": 3
   },
   "file_extension": ".py",
   "mimetype": "text/x-python",
   "name": "python",
   "nbconvert_exporter": "python",
   "pygments_lexer": "ipython3",
   "version": "3.9.7"
  },
  "vscode": {
   "interpreter": {
    "hash": "28c4c14321ed476b30102c645b08ab3b51608c74fc02fade5a793611938eb7b0"
   }
  }
 },
 "nbformat": 4,
 "nbformat_minor": 5
}
