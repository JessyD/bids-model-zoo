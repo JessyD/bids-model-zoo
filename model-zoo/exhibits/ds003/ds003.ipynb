{
 "cells": [
  {
   "cell_type": "code",
   "execution_count": 1,
   "id": "c4c3cb2c",
   "metadata": {},
   "outputs": [],
   "source": [
    "%load_ext autoreload\n",
    "%autoreload 2\n",
    "\n",
    "import json\n",
    "from pathlib import Path\n",
    "from itertools import chain\n",
    "\n",
    "import numpy as np\n",
    "import pandas as pd"
   ]
  },
  {
   "cell_type": "markdown",
   "id": "716fdc82",
   "metadata": {},
   "source": [
    "# Preamble\n",
    "We will use Datalad to manage our data, which in turn depends on git-annex. To install git-annex, uncomment and run one of the following:"
   ]
  },
  {
   "cell_type": "code",
   "execution_count": 2,
   "id": "6ba40699",
   "metadata": {},
   "outputs": [],
   "source": [
    "# Debian\n",
    "# apt-get install git-annex"
   ]
  },
  {
   "cell_type": "code",
   "execution_count": 3,
   "id": "cc82d2ce",
   "metadata": {},
   "outputs": [],
   "source": [
    "# Linux with Conda\n",
    "# conda install -y git-annex"
   ]
  },
  {
   "cell_type": "code",
   "execution_count": 4,
   "id": "ec275e0a",
   "metadata": {},
   "outputs": [],
   "source": [
    "# OSX\n",
    "# open https://git-annex.branchable.com/install/OSX/"
   ]
  },
  {
   "cell_type": "markdown",
   "id": "05d350fd",
   "metadata": {},
   "source": [
    "Datalad, Pybids, Nilearn are Python tools.\n",
    "To ensure that everything installs correctly, we'll upgrade the [pip](https://pip.pypa.io/en/stable/) package manager\n",
    "and the [setuptools](https://setuptools.readthedocs.io/en/latest/) utilities.\n",
    "\n",
    "We will also install unreleased versions of Datalad, Pybids, and [Nilearn](https://nilearn.github.io/) to make things run a little more smoothly."
   ]
  },
  {
   "cell_type": "code",
   "execution_count": 5,
   "id": "a05ffb42",
   "metadata": {
    "lines_to_next_cell": 2
   },
   "outputs": [],
   "source": [
    "# ! pip install -q --upgrade pip setuptools\n",
    "# ! pip install -q --upgrade datalad nistats pybids graphviz"
   ]
  },
  {
   "cell_type": "code",
   "execution_count": 6,
   "id": "45708c26",
   "metadata": {
    "scrolled": true
   },
   "outputs": [],
   "source": [
    "# # get the dataset\n",
    "# !export DATALAD_UI_PROGRESSBAR=log\n",
    "# !export NO_COLOR=\"1\"\n",
    "\n",
    "# !datalad install -r ds000003-fmriprep/\n",
    "# !datalad update ds000003_fmriprep\n",
    "\n",
    "# !datalad install -r ds000003/\n",
    "# !datalad update ds000003"
   ]
  },
  {
   "cell_type": "code",
   "execution_count": 7,
   "id": "edb1a09e",
   "metadata": {},
   "outputs": [],
   "source": [
    "# ! datalad get ds000003-fmriprep/sub-*/func/*_desc-confounds_*.tsv \\\n",
    "#               ds000003-fmriprep/sub-*/func/*_desc-confounds_*.json \\\n",
    "#               ds000003-fmriprep/dataset_description.json "
   ]
  },
  {
   "cell_type": "code",
   "execution_count": 8,
   "id": "fa256f77",
   "metadata": {},
   "outputs": [],
   "source": [
    "from nilearn.plotting import plot_design_matrix\n",
    "\n",
    "import bids\n",
    "from bids.modeling import BIDSStatsModelsGraph\n",
    "from bids.layout import BIDSLayout\n",
    "\n",
    "\n",
    "def api(obj):\n",
    "    return {attr: getattr(obj, attr) for attr in dir(obj) if not attr[0] == '_'}"
   ]
  },
  {
   "cell_type": "code",
   "execution_count": 9,
   "id": "ec4fa2be",
   "metadata": {},
   "outputs": [],
   "source": [
    "layout = BIDSLayout('./ds000003', derivatives='./ds000003-fmriprep')"
   ]
  },
  {
   "cell_type": "code",
   "execution_count": 10,
   "id": "2443fecc",
   "metadata": {},
   "outputs": [
    {
     "data": {
      "text/plain": [
       "{'Name': 'ds003_model001',\n",
       " 'BIDSModelVersion': '1.0.0',\n",
       " 'Description': '',\n",
       " 'Input': {'task': 'rhymejudgment'},\n",
       " 'Nodes': [{'Level': 'run',\n",
       "   'Name': 'subject',\n",
       "   'GroupBy': ['subject'],\n",
       "   'Transformations': {'Transformer': 'pybids-transforms-v1',\n",
       "    'Instructions': [{'Name': 'Factor', 'Input': ['trial_type']},\n",
       "     {'Name': 'Convolve',\n",
       "      'Input': ['trial_type.word', 'trial_type.pseudoword'],\n",
       "      'Model': 'spm'}]},\n",
       "   'Model': {'X': ['trial_type.word',\n",
       "     'trial_type.pseudoword',\n",
       "     'framewise_displacement',\n",
       "     'trans_x',\n",
       "     'trans_y',\n",
       "     'trans_z',\n",
       "     'rot_x',\n",
       "     'rot_y',\n",
       "     'rot_z',\n",
       "     'a_comp_cor_00',\n",
       "     'a_comp_cor_01',\n",
       "     'a_comp_cor_02',\n",
       "     'a_comp_cor_03',\n",
       "     'a_comp_cor_04',\n",
       "     'a_comp_cor_05',\n",
       "     1]},\n",
       "   'DummyContrasts': {'Conditions': ['trial_type.word',\n",
       "     'trial_type.pseudoword'],\n",
       "    'Test': 't'},\n",
       "   'Contrasts': [{'Name': 'word_gt_pseudo',\n",
       "     'ConditionList': ['trial_type.word', 'trial_type.pseudoword'],\n",
       "     'Weights': [1, -1],\n",
       "     'Test': 't'},\n",
       "    {'Name': 'task_vs_baseline',\n",
       "     'ConditionList': ['trial_type.word', 'trial_type.pseudoword'],\n",
       "     'Weights': [0.5, 0.5],\n",
       "     'Test': 't'}]},\n",
       "  {'Level': 'dataset',\n",
       "   'Name': 't-test',\n",
       "   'GroupBy': ['contrast'],\n",
       "   'Model': {'X': [1], 'Type': 'glm'},\n",
       "   'DummyContrasts': {'Test': 't'}},\n",
       "  {'Level': 'dataset',\n",
       "   'Name': 'F-test',\n",
       "   'GroupBy': [],\n",
       "   'Model': {'X': ['trial_type.word', 'trial_type.pseudoword'], 'Type': 'glm'},\n",
       "   'Contrasts': [{'Name': 'any_words',\n",
       "     'ConditionList': ['trial_type.word', 'trial_type.pseudoword'],\n",
       "     'Weights': [[1, 0], [0, 1]],\n",
       "     'Test': 'F'}]}],\n",
       " 'Edges': [{'Source': 'subject',\n",
       "   'Destination': 't-test',\n",
       "   'Filter': {'contrast': ['task_vs_baseline', 'word_gt_pseudo']}},\n",
       "  {'Source': 'subject',\n",
       "   'Destination': 'F-test',\n",
       "   'Filter': {'contrast': ['trial_type.word', 'trial_type.pseudoword']}}]}"
      ]
     },
     "execution_count": 10,
     "metadata": {},
     "output_type": "execute_result"
    }
   ],
   "source": [
    "json_file = 'model-001_smdl.json'\n",
    "spec = json.loads(Path(json_file).read_text())\n",
    "spec"
   ]
  },
  {
   "cell_type": "code",
   "execution_count": 11,
   "id": "3e2a1ce1",
   "metadata": {},
   "outputs": [
    {
     "data": {
      "text/plain": [
       "BIDS Layout: ...el-zoo/exhibits/ds003/ds000003 | Subjects: 13 | Sessions: 0 | Runs: 0"
      ]
     },
     "execution_count": 11,
     "metadata": {},
     "output_type": "execute_result"
    }
   ],
   "source": [
    "layout"
   ]
  },
  {
   "cell_type": "code",
   "execution_count": 12,
   "id": "2e835d47",
   "metadata": {},
   "outputs": [],
   "source": [
    "graph = BIDSStatsModelsGraph(layout, spec)"
   ]
  },
  {
   "cell_type": "code",
   "execution_count": 13,
   "id": "bb0bf91f",
   "metadata": {},
   "outputs": [],
   "source": [
    "root_node = graph.root_node"
   ]
  },
  {
   "cell_type": "code",
   "execution_count": 14,
   "id": "36be0f9e",
   "metadata": {
    "scrolled": true
   },
   "outputs": [],
   "source": [
    "try:\n",
    "    graph.load_collections()\n",
    "except ValueError:\n",
    "    graph.load_collections(scan_length=320)"
   ]
  },
  {
   "cell_type": "code",
   "execution_count": 30,
   "id": "36e0e116",
   "metadata": {
    "scrolled": false
   },
   "outputs": [
    {
     "name": "stdout",
     "output_type": "stream",
     "text": [
      "> \u001b[0;32m/home/zorro/repos/pybids/bids/variables/io.py\u001b[0m(302)\u001b[0;36m_load_time_variables\u001b[0;34m()\u001b[0m\n",
      "\u001b[0;32m    300 \u001b[0;31m                    \u001b[0;32mif\u001b[0m \u001b[0mselect_on\u001b[0m\u001b[0;34m[\u001b[0m\u001b[0;34m'subject'\u001b[0m\u001b[0;34m]\u001b[0m \u001b[0;34m==\u001b[0m \u001b[0;34m'01'\u001b[0m \u001b[0;32mand\u001b[0m \u001b[0mresult\u001b[0m\u001b[0;34m:\u001b[0m\u001b[0;34m\u001b[0m\u001b[0;34m\u001b[0m\u001b[0m\n",
      "\u001b[0m\u001b[0;32m    301 \u001b[0;31m                        \u001b[0;32mimport\u001b[0m \u001b[0mpdb\u001b[0m\u001b[0;34m;\u001b[0m \u001b[0mpdb\u001b[0m\u001b[0;34m.\u001b[0m\u001b[0mset_trace\u001b[0m\u001b[0;34m(\u001b[0m\u001b[0;34m)\u001b[0m\u001b[0;34m\u001b[0m\u001b[0;34m\u001b[0m\u001b[0m\n",
      "\u001b[0m\u001b[0;32m--> 302 \u001b[0;31m                    \u001b[0mrun\u001b[0m\u001b[0;34m.\u001b[0m\u001b[0madd_variable\u001b[0m\u001b[0;34m(\u001b[0m\u001b[0mvar\u001b[0m\u001b[0;34m)\u001b[0m\u001b[0;34m\u001b[0m\u001b[0;34m\u001b[0m\u001b[0m\n",
      "\u001b[0m\u001b[0;32m    303 \u001b[0;31m\u001b[0;34m\u001b[0m\u001b[0m\n",
      "\u001b[0m\u001b[0;32m    304 \u001b[0;31m        \u001b[0;31m# Process confound files\u001b[0m\u001b[0;34m\u001b[0m\u001b[0;34m\u001b[0m\u001b[0m\n",
      "\u001b[0m\n",
      "ipdb> !run.add_variable(var)\n",
      "ipdb> !run.variables.keys()\n",
      "dict_keys(['trial_type'])\n",
      "ipdb> !run.variables['trial_type']\n",
      "<bids.variables.variables.SparseRunVariable object at 0x7fa3cfca7af0>\n",
      "ipdb> !run.variables['trial_type'].values\n",
      "0           word\n",
      "1           word\n",
      "2           word\n",
      "3           word\n",
      "4           word\n",
      "         ...    \n",
      "59    pseudoword\n",
      "60    pseudoword\n",
      "61    pseudoword\n",
      "62    pseudoword\n",
      "63    pseudoword\n",
      "Name: trial_type, Length: 64, dtype: object\n",
      "ipdb> !run.add_variable(var)\n",
      "ipdb> !run.variables.keys()\n",
      "dict_keys(['trial_type'])\n",
      "ipdb> !run.variables['trial_type'].values\n",
      "0           word\n",
      "1           word\n",
      "2           word\n",
      "3           word\n",
      "4           word\n",
      "         ...    \n",
      "59    pseudoword\n",
      "60    pseudoword\n",
      "61    pseudoword\n",
      "62    pseudoword\n",
      "63    pseudoword\n",
      "Name: trial_type, Length: 64, dtype: object\n",
      "ipdb> q\n"
     ]
    },
    {
     "ename": "BdbQuit",
     "evalue": "",
     "output_type": "error",
     "traceback": [
      "\u001b[0;31m---------------------------------------------------------------------------\u001b[0m",
      "\u001b[0;31mBdbQuit\u001b[0m                                   Traceback (most recent call last)",
      "\u001b[0;32m/tmp/ipykernel_87475/1753207461.py\u001b[0m in \u001b[0;36m<module>\u001b[0;34m\u001b[0m\n\u001b[0;32m----> 1\u001b[0;31m \u001b[0mcollections\u001b[0m \u001b[0;34m=\u001b[0m \u001b[0mlayout\u001b[0m\u001b[0;34m.\u001b[0m\u001b[0mget_collections\u001b[0m\u001b[0;34m(\u001b[0m\u001b[0;34m'run'\u001b[0m\u001b[0;34m,\u001b[0m \u001b[0mtask\u001b[0m\u001b[0;34m=\u001b[0m\u001b[0;34m'rhymejudgment'\u001b[0m\u001b[0;34m,\u001b[0m \u001b[0mscan_length\u001b[0m\u001b[0;34m=\u001b[0m\u001b[0;36m320\u001b[0m\u001b[0;34m)\u001b[0m\u001b[0;34m\u001b[0m\u001b[0;34m\u001b[0m\u001b[0m\n\u001b[0m",
      "\u001b[0;32m~/repos/pybids/bids/layout/layout.py\u001b[0m in \u001b[0;36mget_collections\u001b[0;34m(self, level, types, variables, merge, sampling_rate, skip_empty, **kwargs)\u001b[0m\n\u001b[1;32m    858\u001b[0m         \"\"\"\n\u001b[1;32m    859\u001b[0m         \u001b[0;32mfrom\u001b[0m \u001b[0mbids\u001b[0m\u001b[0;34m.\u001b[0m\u001b[0mvariables\u001b[0m \u001b[0;32mimport\u001b[0m \u001b[0mload_variables\u001b[0m\u001b[0;34m\u001b[0m\u001b[0;34m\u001b[0m\u001b[0m\n\u001b[0;32m--> 860\u001b[0;31m         index = load_variables(self, types=types, levels=level,\n\u001b[0m\u001b[1;32m    861\u001b[0m                                skip_empty=skip_empty, **kwargs)\n\u001b[1;32m    862\u001b[0m         return index.get_collections(level, variables, merge,\n",
      "\u001b[0;32m~/repos/pybids/bids/variables/io.py\u001b[0m in \u001b[0;36mload_variables\u001b[0;34m(layout, types, levels, skip_empty, dataset, scope, **kwargs)\u001b[0m\n\u001b[1;32m     90\u001b[0m         \u001b[0m_kwargs\u001b[0m \u001b[0;34m=\u001b[0m \u001b[0mkwargs\u001b[0m\u001b[0;34m.\u001b[0m\u001b[0mcopy\u001b[0m\u001b[0;34m(\u001b[0m\u001b[0;34m)\u001b[0m\u001b[0;34m\u001b[0m\u001b[0;34m\u001b[0m\u001b[0m\n\u001b[1;32m     91\u001b[0m         \u001b[0m_kwargs\u001b[0m\u001b[0;34m.\u001b[0m\u001b[0mupdate\u001b[0m\u001b[0;34m(\u001b[0m\u001b[0mtype_flags\u001b[0m\u001b[0;34m)\u001b[0m\u001b[0;34m\u001b[0m\u001b[0;34m\u001b[0m\u001b[0m\n\u001b[0;32m---> 92\u001b[0;31m         \u001b[0mdataset\u001b[0m \u001b[0;34m=\u001b[0m \u001b[0m_load_time_variables\u001b[0m\u001b[0;34m(\u001b[0m\u001b[0mlayout\u001b[0m\u001b[0;34m,\u001b[0m \u001b[0mdataset\u001b[0m\u001b[0;34m,\u001b[0m \u001b[0mscope\u001b[0m\u001b[0;34m=\u001b[0m\u001b[0mscope\u001b[0m\u001b[0;34m,\u001b[0m \u001b[0;34m**\u001b[0m\u001b[0m_kwargs\u001b[0m\u001b[0;34m)\u001b[0m\u001b[0;34m\u001b[0m\u001b[0;34m\u001b[0m\u001b[0m\n\u001b[0m\u001b[1;32m     93\u001b[0m \u001b[0;34m\u001b[0m\u001b[0m\n\u001b[1;32m     94\u001b[0m     \u001b[0;32mfor\u001b[0m \u001b[0mt\u001b[0m \u001b[0;32min\u001b[0m \u001b[0;34m(\u001b[0m\u001b[0;34m{\u001b[0m\u001b[0;34m'scans'\u001b[0m\u001b[0;34m,\u001b[0m \u001b[0;34m'sessions'\u001b[0m\u001b[0;34m,\u001b[0m \u001b[0;34m'participants'\u001b[0m\u001b[0;34m}\u001b[0m \u001b[0;34m&\u001b[0m \u001b[0mset\u001b[0m\u001b[0;34m(\u001b[0m\u001b[0mtypes\u001b[0m\u001b[0;34m)\u001b[0m\u001b[0;34m)\u001b[0m\u001b[0;34m:\u001b[0m\u001b[0;34m\u001b[0m\u001b[0;34m\u001b[0m\u001b[0m\n",
      "\u001b[0;32m~/repos/pybids/bids/variables/io.py\u001b[0m in \u001b[0;36m_load_time_variables\u001b[0;34m(layout, dataset, columns, scan_length, drop_na, events, physio, stim, regressors, skip_empty, scope, **selectors)\u001b[0m\n\u001b[1;32m    300\u001b[0m                     \u001b[0;32mif\u001b[0m \u001b[0mselect_on\u001b[0m\u001b[0;34m[\u001b[0m\u001b[0;34m'subject'\u001b[0m\u001b[0;34m]\u001b[0m \u001b[0;34m==\u001b[0m \u001b[0;34m'01'\u001b[0m \u001b[0;32mand\u001b[0m \u001b[0mresult\u001b[0m\u001b[0;34m:\u001b[0m\u001b[0;34m\u001b[0m\u001b[0;34m\u001b[0m\u001b[0m\n\u001b[1;32m    301\u001b[0m                         \u001b[0;32mimport\u001b[0m \u001b[0mpdb\u001b[0m\u001b[0;34m;\u001b[0m \u001b[0mpdb\u001b[0m\u001b[0;34m.\u001b[0m\u001b[0mset_trace\u001b[0m\u001b[0;34m(\u001b[0m\u001b[0;34m)\u001b[0m\u001b[0;34m\u001b[0m\u001b[0;34m\u001b[0m\u001b[0m\n\u001b[0;32m--> 302\u001b[0;31m                     \u001b[0mrun\u001b[0m\u001b[0;34m.\u001b[0m\u001b[0madd_variable\u001b[0m\u001b[0;34m(\u001b[0m\u001b[0mvar\u001b[0m\u001b[0;34m)\u001b[0m\u001b[0;34m\u001b[0m\u001b[0;34m\u001b[0m\u001b[0m\n\u001b[0m\u001b[1;32m    303\u001b[0m \u001b[0;34m\u001b[0m\u001b[0m\n\u001b[1;32m    304\u001b[0m         \u001b[0;31m# Process confound files\u001b[0m\u001b[0;34m\u001b[0m\u001b[0;34m\u001b[0m\u001b[0m\n",
      "\u001b[0;32m~/repos/pybids/bids/variables/io.py\u001b[0m in \u001b[0;36m_load_time_variables\u001b[0;34m(layout, dataset, columns, scan_length, drop_na, events, physio, stim, regressors, skip_empty, scope, **selectors)\u001b[0m\n\u001b[1;32m    300\u001b[0m                     \u001b[0;32mif\u001b[0m \u001b[0mselect_on\u001b[0m\u001b[0;34m[\u001b[0m\u001b[0;34m'subject'\u001b[0m\u001b[0;34m]\u001b[0m \u001b[0;34m==\u001b[0m \u001b[0;34m'01'\u001b[0m \u001b[0;32mand\u001b[0m \u001b[0mresult\u001b[0m\u001b[0;34m:\u001b[0m\u001b[0;34m\u001b[0m\u001b[0;34m\u001b[0m\u001b[0m\n\u001b[1;32m    301\u001b[0m                         \u001b[0;32mimport\u001b[0m \u001b[0mpdb\u001b[0m\u001b[0;34m;\u001b[0m \u001b[0mpdb\u001b[0m\u001b[0;34m.\u001b[0m\u001b[0mset_trace\u001b[0m\u001b[0;34m(\u001b[0m\u001b[0;34m)\u001b[0m\u001b[0;34m\u001b[0m\u001b[0;34m\u001b[0m\u001b[0m\n\u001b[0;32m--> 302\u001b[0;31m                     \u001b[0mrun\u001b[0m\u001b[0;34m.\u001b[0m\u001b[0madd_variable\u001b[0m\u001b[0;34m(\u001b[0m\u001b[0mvar\u001b[0m\u001b[0;34m)\u001b[0m\u001b[0;34m\u001b[0m\u001b[0;34m\u001b[0m\u001b[0m\n\u001b[0m\u001b[1;32m    303\u001b[0m \u001b[0;34m\u001b[0m\u001b[0m\n\u001b[1;32m    304\u001b[0m         \u001b[0;31m# Process confound files\u001b[0m\u001b[0;34m\u001b[0m\u001b[0;34m\u001b[0m\u001b[0m\n",
      "\u001b[0;32m~/anaconda3/lib/python3.9/bdb.py\u001b[0m in \u001b[0;36mtrace_dispatch\u001b[0;34m(self, frame, event, arg)\u001b[0m\n\u001b[1;32m     86\u001b[0m             \u001b[0;32mreturn\u001b[0m \u001b[0;31m# None\u001b[0m\u001b[0;34m\u001b[0m\u001b[0;34m\u001b[0m\u001b[0m\n\u001b[1;32m     87\u001b[0m         \u001b[0;32mif\u001b[0m \u001b[0mevent\u001b[0m \u001b[0;34m==\u001b[0m \u001b[0;34m'line'\u001b[0m\u001b[0;34m:\u001b[0m\u001b[0;34m\u001b[0m\u001b[0;34m\u001b[0m\u001b[0m\n\u001b[0;32m---> 88\u001b[0;31m             \u001b[0;32mreturn\u001b[0m \u001b[0mself\u001b[0m\u001b[0;34m.\u001b[0m\u001b[0mdispatch_line\u001b[0m\u001b[0;34m(\u001b[0m\u001b[0mframe\u001b[0m\u001b[0;34m)\u001b[0m\u001b[0;34m\u001b[0m\u001b[0;34m\u001b[0m\u001b[0m\n\u001b[0m\u001b[1;32m     89\u001b[0m         \u001b[0;32mif\u001b[0m \u001b[0mevent\u001b[0m \u001b[0;34m==\u001b[0m \u001b[0;34m'call'\u001b[0m\u001b[0;34m:\u001b[0m\u001b[0;34m\u001b[0m\u001b[0;34m\u001b[0m\u001b[0m\n\u001b[1;32m     90\u001b[0m             \u001b[0;32mreturn\u001b[0m \u001b[0mself\u001b[0m\u001b[0;34m.\u001b[0m\u001b[0mdispatch_call\u001b[0m\u001b[0;34m(\u001b[0m\u001b[0mframe\u001b[0m\u001b[0;34m,\u001b[0m \u001b[0marg\u001b[0m\u001b[0;34m)\u001b[0m\u001b[0;34m\u001b[0m\u001b[0;34m\u001b[0m\u001b[0m\n",
      "\u001b[0;32m~/anaconda3/lib/python3.9/bdb.py\u001b[0m in \u001b[0;36mdispatch_line\u001b[0;34m(self, frame)\u001b[0m\n\u001b[1;32m    111\u001b[0m         \u001b[0;32mif\u001b[0m \u001b[0mself\u001b[0m\u001b[0;34m.\u001b[0m\u001b[0mstop_here\u001b[0m\u001b[0;34m(\u001b[0m\u001b[0mframe\u001b[0m\u001b[0;34m)\u001b[0m \u001b[0;32mor\u001b[0m \u001b[0mself\u001b[0m\u001b[0;34m.\u001b[0m\u001b[0mbreak_here\u001b[0m\u001b[0;34m(\u001b[0m\u001b[0mframe\u001b[0m\u001b[0;34m)\u001b[0m\u001b[0;34m:\u001b[0m\u001b[0;34m\u001b[0m\u001b[0;34m\u001b[0m\u001b[0m\n\u001b[1;32m    112\u001b[0m             \u001b[0mself\u001b[0m\u001b[0;34m.\u001b[0m\u001b[0muser_line\u001b[0m\u001b[0;34m(\u001b[0m\u001b[0mframe\u001b[0m\u001b[0;34m)\u001b[0m\u001b[0;34m\u001b[0m\u001b[0;34m\u001b[0m\u001b[0m\n\u001b[0;32m--> 113\u001b[0;31m             \u001b[0;32mif\u001b[0m \u001b[0mself\u001b[0m\u001b[0;34m.\u001b[0m\u001b[0mquitting\u001b[0m\u001b[0;34m:\u001b[0m \u001b[0;32mraise\u001b[0m \u001b[0mBdbQuit\u001b[0m\u001b[0;34m\u001b[0m\u001b[0;34m\u001b[0m\u001b[0m\n\u001b[0m\u001b[1;32m    114\u001b[0m         \u001b[0;32mreturn\u001b[0m \u001b[0mself\u001b[0m\u001b[0;34m.\u001b[0m\u001b[0mtrace_dispatch\u001b[0m\u001b[0;34m\u001b[0m\u001b[0;34m\u001b[0m\u001b[0m\n\u001b[1;32m    115\u001b[0m \u001b[0;34m\u001b[0m\u001b[0m\n",
      "\u001b[0;31mBdbQuit\u001b[0m: "
     ]
    }
   ],
   "source": [
    "collections = layout.get_collections('run', task='rhymejudgment', scan_length=320)"
   ]
  },
  {
   "cell_type": "code",
   "execution_count": 16,
   "id": "2caa174a",
   "metadata": {},
   "outputs": [
    {
     "data": {
      "text/plain": [
       "{'desc': 'preproc',\n",
       " 'space': 'MNI152NLin2009cAsym',\n",
       " 'SkullStripped': True,\n",
       " 'datatype': 'func',\n",
       " 'TaskName': 'rhyme judgment',\n",
       " 'suffix': 'bold',\n",
       " 'task': 'rhymejudgment',\n",
       " 'RepetitionTime': 2.0,\n",
       " 'subject': '13',\n",
       " 'model': 'zoo',\n",
       " 'extension': '.nii.gz'}"
      ]
     },
     "execution_count": 16,
     "metadata": {},
     "output_type": "execute_result"
    }
   ],
   "source": [
    "root_node.get_collections()[-1].entities"
   ]
  },
  {
   "cell_type": "code",
   "execution_count": 17,
   "id": "5babb68c",
   "metadata": {},
   "outputs": [],
   "source": [
    "# graph.load_collections(scan_length=320)"
   ]
  },
  {
   "cell_type": "code",
   "execution_count": 18,
   "id": "e5fc0499",
   "metadata": {},
   "outputs": [],
   "source": [
    "# foo = graph.root_node.get_collections()[0]"
   ]
  },
  {
   "cell_type": "code",
   "execution_count": 19,
   "id": "670a8c88",
   "metadata": {},
   "outputs": [],
   "source": [
    "# [ff.run_info[0][0]['RepetitionTime'] for ff in list(foo.variables.values())]"
   ]
  },
  {
   "cell_type": "code",
   "execution_count": 20,
   "id": "48023dcf",
   "metadata": {},
   "outputs": [],
   "source": [
    "# for ff in list(foo.variables.values()):\n",
    "#     break"
   ]
  },
  {
   "cell_type": "code",
   "execution_count": 21,
   "id": "fc164988",
   "metadata": {},
   "outputs": [],
   "source": [
    "# ff.to_df()"
   ]
  },
  {
   "cell_type": "code",
   "execution_count": 22,
   "id": "d9f7b333",
   "metadata": {
    "scrolled": false
   },
   "outputs": [
    {
     "data": {
      "text/plain": [
       "13"
      ]
     },
     "execution_count": 22,
     "metadata": {},
     "output_type": "execute_result"
    }
   ],
   "source": [
    "specs = root_node.run(group_by=root_node.group_by)\n",
    "len(specs)"
   ]
  },
  {
   "cell_type": "code",
   "execution_count": 23,
   "id": "3c4832da",
   "metadata": {},
   "outputs": [
    {
     "data": {
      "text/plain": [
       "<bids.modeling.statsmodels.BIDSStatsModelsNodeOutput at 0x7f88243c8dc0>"
      ]
     },
     "execution_count": 23,
     "metadata": {},
     "output_type": "execute_result"
    }
   ],
   "source": [
    "specs[0]"
   ]
  },
  {
   "cell_type": "code",
   "execution_count": 24,
   "id": "39352a70",
   "metadata": {},
   "outputs": [
    {
     "data": {
      "text/plain": [
       "<AxesSubplot:label='conditions', ylabel='scan number'>"
      ]
     },
     "execution_count": 24,
     "metadata": {},
     "output_type": "execute_result"
    },
    {
     "data": {
      "image/png": "[encoded data removed]",
      "text/plain": [
       "<Figure size 336.96x720 with 1 Axes>"
      ]
     },
     "metadata": {
      "needs_background": "light"
     },
     "output_type": "display_data"
    }
   ],
   "source": [
    "plot_design_matrix(specs[0].X, rescale=False)"
   ]
  }
 ],
 "metadata": {
  "jupytext": {
   "formats": "ipynb,py:percent"
  },
  "kernelspec": {
   "display_name": "Python 3 (ipykernel)",
   "language": "python",
   "name": "python3"
  },
  "language_info": {
   "codemirror_mode": {
    "name": "ipython",
    "version": 3
   },
   "file_extension": ".py",
   "mimetype": "text/x-python",
   "name": "python",
   "nbconvert_exporter": "python",
   "pygments_lexer": "ipython3",
   "version": "3.9.7"
  }
 },
 "nbformat": 4,
 "nbformat_minor": 5
}
